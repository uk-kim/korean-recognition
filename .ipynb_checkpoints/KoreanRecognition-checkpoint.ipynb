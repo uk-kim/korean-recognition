{
 "cells": [
  {
   "cell_type": "markdown",
   "metadata": {},
   "source": [
    "# 한국어 필기체 인식기\n",
    "### Hand-written Korean Language Recognizer\n",
    "\n",
    "### 1. 데이터셋 : phd08\n",
    "###"
   ]
  },
  {
   "cell_type": "code",
   "execution_count": 1,
   "metadata": {},
   "outputs": [],
   "source": [
    "#-*- coding: utf-8 -*-\n",
    "\n",
    "import os\n",
    "import numpy as np\n",
    "import cv2"
   ]
  },
  {
   "cell_type": "markdown",
   "metadata": {},
   "source": [
    "Label 종류 가져오기"
   ]
  },
  {
   "cell_type": "code",
   "execution_count": 2,
   "metadata": {},
   "outputs": [],
   "source": [
    "dataset_path = '/Users/kimsu/datasets/korean_image/phd08/'\n",
    "txt_files = os.listdir(os.path.join(dataset_path, 'txt'))\n",
    "txt_files.sort()\n",
    "\n",
    "data_labels = [ch.split('.')[0] for ch in txt_files if ch.split('.')[-1] == 'txt']\n",
    "del txt_files\n",
    "\n",
    "with open(os.path.join(dataset_path, 'labels_to_index.txt'), 'r') as f:\n",
    "    labels = [line.strip() for line in f]\n",
    "    \n",
    "label_to_idx = {l:i for i, l in enumerate(labels)}\n",
    "idx_to_label = {i:l for i, l in enumerate(labels)}"
   ]
  },
  {
   "cell_type": "code",
   "execution_count": 3,
   "metadata": {},
   "outputs": [
    {
     "data": {
      "text/plain": [
       "2"
      ]
     },
     "execution_count": 3,
     "metadata": {},
     "output_type": "execute_result"
    }
   ],
   "source": [
    "label_to_idx[idx_to_label[2]]"
   ]
  },
  {
   "cell_type": "markdown",
   "metadata": {},
   "source": [
    "PHD08 데이터셋 txt 파일 --> png 이미지로 변환"
   ]
  },
  {
   "cell_type": "code",
   "execution_count": 24,
   "metadata": {},
   "outputs": [],
   "source": [
    "def phd08_txt_to_image(txt_path, label_name, img_path, label_to_idx):\n",
    "    with open(os.path.join(txt_path, label_name + '.txt'), 'r') as file:\n",
    "        data_checker = 0\n",
    "        for line in file.readlines():\n",
    "            if not line.strip():\n",
    "                # End of line\n",
    "                font_array = cv2.GaussianBlur(font_array, (7, 7), 0.5)\n",
    "                if not os.path.exists(img_path):\n",
    "                    os.makedirs(img_path)\n",
    "                font_array *= 255\n",
    "                font_array = font_array.astype(np.uint8)\n",
    "                cv2.imwrite(os.path.join(img_path, save_file_name), font_array)\n",
    "                \n",
    "                data_checker = 0\n",
    "            else:\n",
    "                if data_checker == 0:\n",
    "                    save_file_name = '%06d_%s.png' % (label_to_idx[label_name], line.strip())\n",
    "                elif data_checker == 1:\n",
    "                    height, width = line.strip().split(' ')\n",
    "                    height = int(height)\n",
    "                    width = int(width)\n",
    "                    font_array = np.zeros([height, width])\n",
    "                else:\n",
    "                    font_array[data_checker-2] = list(map(int, line.strip()))\n",
    "                data_checker += 1"
   ]
  },
  {
   "cell_type": "code",
   "execution_count": 26,
   "metadata": {},
   "outputs": [],
   "source": [
    "dataset_path = '/Users/kimsu/datasets/korean_image/phd08'\n",
    "phd08_txt_to_image(txt_path=dataset_path + '/txt/',\n",
    "                  label_name = labels[0],\n",
    "                  img_path=dataset_path + '/png',\n",
    "                  label_to_idx=label_to_idx)"
   ]
  },
  {
   "cell_type": "code",
   "execution_count": null,
   "metadata": {},
   "outputs": [],
   "source": []
  },
  {
   "cell_type": "markdown",
   "metadata": {},
   "source": [
    "자모 분해"
   ]
  },
  {
   "cell_type": "code",
   "execution_count": 29,
   "metadata": {},
   "outputs": [],
   "source": [
    "import re"
   ]
  },
  {
   "cell_type": "code",
   "execution_count": 55,
   "metadata": {},
   "outputs": [],
   "source": [
    "BASE_CODE, INIT_CODE, MED_CODE = 44032, 588, 28"
   ]
  },
  {
   "cell_type": "markdown",
   "metadata": {},
   "source": [
    "init_chars_list=['ㄱ', 'ㄴ', 'ㄷ', 'ㄹ', 'ㅁ', 'ㅂ', 'ㅅ', 'ㅇ', 'ㅈ',\n",
    "                 'ㅊ', 'ㅋ', 'ㅌ', 'ㅍ', 'ㅎ', 'ㄲ', 'ㄸ', 'ㅃ', 'ㅆ', 'ㅉ']\n",
    "med_chars_list=['ㅏ', 'ㅑ', 'ㅓ', 'ㅕ', 'ㅗ', 'ㅛ', 'ㅜ', 'ㅠ', 'ㅡ',\n",
    "                'ㅣ', 'ㅐ', 'ㅒ', 'ㅔ', 'ㅖ', 'ㅘ', 'ㅙ', 'ㅚ', 'ㅝ',\n",
    "                'ㅞ', 'ㅟ', 'ㅢ']\n",
    "final_chars_list=['', 'ㄱ', 'ㄴ', 'ㄷ', 'ㄹ', 'ㅁ', 'ㅂ', 'ㅅ', 'ㅇ',\n",
    "                  'ㅈ', 'ㅊ', 'ㅋ', 'ㅌ', 'ㅍ', 'ㅎ', 'ㄲ', 'ㅆ',\n",
    "                  'ㄳ', 'ㄵ', 'ㄶ', 'ㄺ', 'ㄻ', 'ㄼ', 'ㄽ', 'ㄾ', 'ㄿ', 'ㅀ', 'ㅄ']"
   ]
  },
  {
   "cell_type": "code",
   "execution_count": 31,
   "metadata": {},
   "outputs": [],
   "source": [
    "init_chars_list=['ㄱ','ㄲ','ㄴ','ㄷ','ㄸ','ㄹ','ㅁ','ㅂ','ㅃ','ㅅ','ㅆ','ㅇ',\n",
    "                 'ㅈ','ㅉ','ㅊ','ㅋ','ㅌ','ㅍ','ㅎ']\n",
    "med_chars_list=['ㅏ','ㅐ','ㅑ','ㅒ','ㅓ','ㅔ','ㅕ','ㅖ','ㅗ','ㅘ','ㅙ','ㅚ',\n",
    "                'ㅛ','ㅜ','ㅝ','ㅞ','ㅟ','ㅠ','ㅡ','ㅢ','ㅣ']\n",
    "final_chars_list=['','ㄱ','ㄲ','ㄳ','ㄴ','ㄵ','ㄶ','ㄷ','ㄹ','ㄺ',\n",
    "                  'ㄻ','ㄼ','ㄽ','ㄾ','ㄿ','ㅀ','ㅁ','ㅂ','ㅄ','ㅅ',\n",
    "                  'ㅆ','ㅇ','ㅈ','ㅊ','ㅋ','ㅌ','ㅍ','ㅎ']"
   ]
  },
  {
   "cell_type": "code",
   "execution_count": null,
   "metadata": {},
   "outputs": [],
   "source": []
  },
  {
   "cell_type": "code",
   "execution_count": 31,
   "metadata": {},
   "outputs": [],
   "source": [
    "def list_to_string(src):\n",
    "    string = \"\"\n",
    "    for arg in src:\n",
    "        string += arg\n",
    "    return string\n",
    "\n",
    "def load_korean_chars(path):\n",
    "    init_list = []\n",
    "    med_list = []\n",
    "    final_list = []\n",
    "    with open(path, 'r') as f:\n",
    "        init_string = f.readline().strip()\n",
    "        med_string = f.readline().strip()\n",
    "        final_string = f.readline().strip()\n",
    "        \n",
    "        init_list = [ch for ch in init_string]\n",
    "        med_list = [ch for ch in med_string]\n",
    "        final_list = [\"\"] + [ch for ch in final_string]\n",
    "        \n",
    "    return init_list, med_list, final_list\n",
    "\n",
    "def save_korean_chars(path, init_list, med_list, final_list):\n",
    "    with open(path, 'w') as f:\n",
    "        init_string = list_to_string(init_list)\n",
    "        med_string = list_to_string(med_list)\n",
    "        final_string = list_to_string(final_list)\n",
    "        \n",
    "        f.write(\"%s\\n\" % init_string)\n",
    "        f.write(\"%s\\n\" % med_string)\n",
    "        f.write(\"%s\\n\" % final_string)"
   ]
  },
  {
   "cell_type": "code",
   "execution_count": 32,
   "metadata": {
    "scrolled": true
   },
   "outputs": [],
   "source": [
    "init_list, med_list, final_list = load_korean_chars('/Users/kimsu/src/koreanRecognition/ch_list_lut.txt')"
   ]
  },
  {
   "cell_type": "code",
   "execution_count": 37,
   "metadata": {},
   "outputs": [],
   "source": [
    "init_ch_to_idx = {c:i for i, c in enumerate(init_list)}\n",
    "med_ch_to_idx = {c:i for i, c in enumerate(med_list)}\n",
    "final_ch_to_idx = {c:i for i, c in enumerate(final_list)}\n",
    "\n",
    "init_idx_to_ch = {i:c for i, c in enumerate(init_list)}\n",
    "med_idx_to_ch = {i:c for i, c in enumerate(med_list)}\n",
    "final_idx_to_ch = {i:c for i, c in enumerate(final_list)}"
   ]
  },
  {
   "cell_type": "code",
   "execution_count": 125,
   "metadata": {},
   "outputs": [],
   "source": [
    "def decompose_korean_letter(ch):\n",
    "    args = []\n",
    "    args_idx = []\n",
    "    if len(ch) > 1:\n",
    "        print(1)\n",
    "        c1, c2, c3 = ch[0], ch[1], ch[2] if len(ch) == 3 else ''\n",
    "        args = [c1, c2, c3]\n",
    "        args_idx = [init_ch_to_idx[c1], med_ch_to_idx[c2], final_ch_to_idx[c3]]\n",
    "    elif re.match('.*[ㄱ-ㅎㅏ-ㅣ가-힣]+.*', ch) is not None:\n",
    "        char_code = ord(ch) - BASE_CODE\n",
    "        c1 = int(char_code / INIT_CODE)\n",
    "        c2 = int((char_code - (INIT_CODE*c1)) / MED_CODE)\n",
    "        c3 = int((char_code - (INIT_CODE*c1)) - (MED_CODE*c2))\n",
    "        \n",
    "        args = [init_idx_to_ch[c1], med_idx_to_ch[c2], final_idx_to_ch[c3]]\n",
    "        args_idx = [c1, c2, c3]\n",
    "    else:\n",
    "        args = [ch]\n",
    "        args_idx = [-1]\n",
    "    \n",
    "    return args, args_idx\n",
    "\n",
    "def decompose_korean_letters(chs):\n",
    "    args_list = []\n",
    "    args_idx_list = []\n",
    "    for ch in chs:\n",
    "        args, args_idx = decompose_korean_letter(ch)\n",
    "        args_list.append(args)\n",
    "        args_idx_list.append(args_idx)\n",
    "    \n",
    "    return args_list, args_idx_list\n",
    "\n",
    "def assemble_korean_letter(idxs):\n",
    "    return BASE_CODE + idxs[0] * INIT_CODE + idxs[1] * MED_CODE + idxs[2]"
   ]
  },
  {
   "cell_type": "code",
   "execution_count": 126,
   "metadata": {
    "scrolled": true
   },
   "outputs": [
    {
     "data": {
      "text/plain": [
       "(['ㅃ', 'ㅗ', ''], [8, 8, 0])"
      ]
     },
     "execution_count": 126,
     "metadata": {},
     "output_type": "execute_result"
    }
   ],
   "source": [
    "letters, idxs = decompose_korean_letter('뽀')\n",
    "letters, idxs"
   ]
  },
  {
   "cell_type": "code",
   "execution_count": 129,
   "metadata": {},
   "outputs": [
    {
     "data": {
      "text/plain": [
       "([['ㄴ', 'ㅏ', ''], ['ㅂ', 'ㅣ', ''], ['ㅇ', 'ㅑ', ''], [' '], ['h'], ['i']],\n",
       " [[2, 0, 0], [7, 20, 0], [11, 2, 0], [-1], [-1], [-1]])"
      ]
     },
     "execution_count": 129,
     "metadata": {},
     "output_type": "execute_result"
    }
   ],
   "source": [
    "decompose_korean_letters('나비야 hi')"
   ]
  },
  {
   "cell_type": "code",
   "execution_count": null,
   "metadata": {},
   "outputs": [],
   "source": []
  },
  {
   "cell_type": "code",
   "execution_count": null,
   "metadata": {},
   "outputs": [],
   "source": []
  },
  {
   "cell_type": "code",
   "execution_count": 70,
   "metadata": {},
   "outputs": [],
   "source": [
    "code = assemble_korean_letter(idxs)"
   ]
  },
  {
   "cell_type": "code",
   "execution_count": null,
   "metadata": {},
   "outputs": [],
   "source": []
  }
 ],
 "metadata": {
  "kernelspec": {
   "display_name": "py36tf1x",
   "language": "python",
   "name": "py36tf1x"
  },
  "language_info": {
   "codemirror_mode": {
    "name": "ipython",
    "version": 3
   },
   "file_extension": ".py",
   "mimetype": "text/x-python",
   "name": "python",
   "nbconvert_exporter": "python",
   "pygments_lexer": "ipython3",
   "version": "3.6.3"
  }
 },
 "nbformat": 4,
 "nbformat_minor": 2
}
