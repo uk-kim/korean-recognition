{
 "cells": [
  {
   "cell_type": "markdown",
   "metadata": {},
   "source": [
    "### 한글 인식 디버그용 Notebook"
   ]
  },
  {
   "cell_type": "markdown",
   "metadata": {},
   "source": [
    "#### Import"
   ]
  },
  {
   "cell_type": "code",
   "execution_count": 1,
   "metadata": {},
   "outputs": [
    {
     "name": "stderr",
     "output_type": "stream",
     "text": [
      "/Users/kimsu/py36tf1x/lib/python3.6/importlib/_bootstrap.py:219: RuntimeWarning: compiletime version 3.5 of module 'tensorflow.python.framework.fast_tensor_util' does not match runtime version 3.6\n",
      "  return f(*args, **kwds)\n"
     ]
    }
   ],
   "source": [
    "# -*-coding: utf-8-*-\n",
    "from dataset.datasets import DataSet\n",
    "from dataset.korean_utils import *\n",
    "\n",
    "import unicodedata\n",
    "\n",
    "import cv2\n",
    "import numpy as np\n",
    "\n",
    "import tensorflow as tf\n",
    "from attention.attention import glimpse_sensor, model\n",
    "\n",
    "from attention.config import *"
   ]
  },
  {
   "cell_type": "markdown",
   "metadata": {},
   "source": [
    "#### Set Arguments"
   ]
  },
  {
   "cell_type": "code",
   "execution_count": 2,
   "metadata": {},
   "outputs": [],
   "source": [
    "args = {\n",
    "    'dataset': 'phd08',\n",
    "    'dataset_path': '/Users/kimsu/datasets/korean_image/phd08',\n",
    "    'width': 28,\n",
    "    'height': 28,\n",
    "    'sampling': True,\n",
    "    'n_sample': 50,\n",
    "    'train_set_ratio': 0.7\n",
    "}\n",
    "args['data_size'] = args['width'] * args['height']"
   ]
  },
  {
   "cell_type": "markdown",
   "metadata": {},
   "source": [
    "#### Datasets : PHD08"
   ]
  },
  {
   "cell_type": "code",
   "execution_count": 3,
   "metadata": {},
   "outputs": [
    {
     "name": "stderr",
     "output_type": "stream",
     "text": [
      "100%|██████████| 3/3 [00:00<00:00, 41.67it/s]\n"
     ]
    }
   ],
   "source": [
    "dataset = DataSet(args)"
   ]
  },
  {
   "cell_type": "code",
   "execution_count": 4,
   "metadata": {
    "scrolled": true
   },
   "outputs": [],
   "source": [
    "# Dataset Test\n",
    "images, labels = dataset.train_data.next_batch(10)\n",
    "# images, labels"
   ]
  },
  {
   "cell_type": "code",
   "execution_count": null,
   "metadata": {},
   "outputs": [],
   "source": []
  },
  {
   "cell_type": "markdown",
   "metadata": {},
   "source": [
    "#### Model Build"
   ]
  },
  {
   "cell_type": "code",
   "execution_count": 5,
   "metadata": {},
   "outputs": [],
   "source": [
    "# input image tensor\n",
    "x = tf.placeholder(tf.float32, [1, 28, 28, 1])"
   ]
  },
  {
   "cell_type": "code",
   "execution_count": 6,
   "metadata": {},
   "outputs": [],
   "source": [
    "# Weight and Bias variables\n",
    "w = {\n",
    "    # for context network\n",
    "    'wc1': tf.get_variable('wc1', [3, 3, channels, 16], tf.float32),\n",
    "    'wc2': tf.get_variable('wc2', [3, 3, 16, 64], tf.float32),\n",
    "    'wc3': tf.get_variable('wc3', [1, 1, 64, 3], tf.float32),\n",
    "    'wc_fc': tf.get_variable('wc_fc', [img_len * 3, lstm_size], tf.float32),\n",
    "    # for emission network\n",
    "    'we_bl': tf.get_variable('we_bl', [lstm_size, lstm_size], tf.float32),\n",
    "    'we_h_nl': tf.get_variable('we_h_nl', [lstm_size, 2], tf.float32),\n",
    "    # for action network\n",
    "    'wai': tf.get_variable('wai', [lstm_size, n_initial_character], tf.float32),\n",
    "    'wam': tf.get_variable('wam', [lstm_size, n_middle_character], tf.float32),\n",
    "    'waf': tf.get_variable('waf', [lstm_size, n_final_character], tf.float32),\n",
    "    # for glimpse network\n",
    "    'wg1': tf.get_variable('wg1', [3, 3, channels, 16], tf.float32),\n",
    "    'wg2': tf.get_variable('wg2', [3, 3, 16, 64], tf.float32),\n",
    "    'wg3': tf.get_variable('wg3', [1, 1, 64, 3], tf.float32),\n",
    "    'wg_fc': tf.get_variable('wg_fc', [sensor_bandwidth*sensor_bandwidth * 3, lstm_size], tf.float32),\n",
    "    'wg_lh': tf.get_variable('wg_lh', [2, lstm_size], tf.float32),\n",
    "    'wg_gh_gf': tf.get_variable('wg_gh_gf', [lstm_size, lstm_size], tf.float32),\n",
    "    'wg_lh_gf': tf.get_variable('wg_lh_gf', [lstm_size, lstm_size], tf.float32),\n",
    "    # for core network\n",
    "    'wo': tf.get_variable('wo', [lstm_size, lstm_size], tf.float32)\n",
    "}\n",
    "\n",
    "b = {\n",
    "    # for context network\n",
    "    'bc1': tf.get_variable('bc1', [16], tf.float32),\n",
    "    'bc2': tf.get_variable('bc2', [64], tf.float32),\n",
    "    'bc3': tf.get_variable('bc3', [3], tf.float32),\n",
    "    'bc_fc': tf.get_variable('bc_fc', [lstm_size], tf.float32),\n",
    "    # for emission network\n",
    "    'be_bl': tf.get_variable('be_bl', [lstm_size], tf.float32),\n",
    "    'be_h_nl': tf.get_variable('be_h_nl', [2], tf.float32),\n",
    "    # for action network\n",
    "    'bai': tf.get_variable('bai', [n_initial_character], tf.float32),\n",
    "    'bam': tf.get_variable('bam', [n_middle_character], tf.float32),\n",
    "    'baf': tf.get_variable('baf', [n_final_character], tf.float32),\n",
    "    # for glimpse network\n",
    "    'bg1': tf.get_variable('bg1', [16], tf.float32),\n",
    "    'bg2': tf.get_variable('bg2', [64], tf.float32),\n",
    "    'bg3': tf.get_variable('bg3', [3], tf.float32),\n",
    "    'bg_fc': tf.get_variable('bg_fc', [lstm_size], tf.float32),\n",
    "    'bg_lh': tf.get_variable('bg_lh', [lstm_size], tf.float32),\n",
    "    'bg_glh_gf': tf.get_variable('bg_glh_gf', [lstm_size], tf.float32),\n",
    "    # for core network\n",
    "    'bo': tf.get_variable('bo', [lstm_size], tf.float32)\n",
    "}"
   ]
  },
  {
   "cell_type": "code",
   "execution_count": 7,
   "metadata": {},
   "outputs": [
    {
     "name": "stdout",
     "output_type": "stream",
     "text": [
      "1 Tensor(\"Placeholder:0\", shape=(1, 28, 28, 1), dtype=float32)\n",
      "2 Tensor(\"Relu_3:0\", shape=(1, 256), dtype=float32)\n",
      "WARNING:tensorflow:<tensorflow.python.ops.rnn_cell_impl.LSTMCell object at 0x1052ee6a0>: Using a concatenated state is slower and will soon be deprecated.  Use state_is_tuple=True.\n",
      "3 <tensorflow.python.ops.rnn_cell_impl.LSTMCell object at 0x1052ee6a0>\n",
      "WARNING:tensorflow:<tensorflow.python.ops.rnn_cell_impl.LSTMCell object at 0x10546af60>: Using a concatenated state is slower and will soon be deprecated.  Use state_is_tuple=True.\n",
      "4 <tensorflow.python.ops.rnn_cell_impl.LSTMCell object at 0x10546af60>\n",
      "5 Tensor(\"zeros:0\", shape=(1, 256), dtype=float32)\n",
      "6 Tensor(\"rnn2/rnn2/lstm_cell/mul_2:0\", shape=(1, 256), dtype=float32) Tensor(\"rnn2/rnn2/lstm_cell/concat_1:0\", shape=(1, 512), dtype=float32)\n",
      "7 Tensor(\"rnn2/clip_by_value:0\", shape=(1, 2), dtype=float32) Tensor(\"rnn2/StopGradient_1:0\", shape=(1, 2), dtype=float32) Tensor(\"rnn2/Sigmoid:0\", shape=(1, 256), dtype=float32)\n",
      "8 Tensor(\"LSTMCellZeroState/zeros:0\", shape=(1, 512), dtype=float32)\n",
      "9 1 Tensor(\"Relu_9:0\", shape=(1, 256), dtype=float32)\n",
      "9 2 Tensor(\"rnn1/rnn1/lstm_cell/mul_2:0\", shape=(1, 256), dtype=float32) Tensor(\"rnn1/rnn1/lstm_cell/concat_1:0\", shape=(1, 512), dtype=float32)\n",
      "9 3 Tensor(\"rnn1/Sigmoid:0\", shape=(1, 256), dtype=float32)\n",
      "9 4 Tensor(\"rnn2/rnn2/lstm_cell/mul_5:0\", shape=(1, 256), dtype=float32) Tensor(\"rnn2/rnn2/lstm_cell/concat_3:0\", shape=(1, 512), dtype=float32)\n",
      "9 5 Tensor(\"rnn2_1/clip_by_value:0\", shape=(1, 2), dtype=float32) Tensor(\"rnn2_1/StopGradient_1:0\", shape=(1, 2), dtype=float32) Tensor(\"rnn2_1/Sigmoid:0\", shape=(1, 256), dtype=float32)\n",
      "24 Tensor(\"Softmax:0\", shape=(1, 19), dtype=float32)\n",
      "10 1 Tensor(\"Relu_15:0\", shape=(1, 256), dtype=float32)\n",
      "10 2 Tensor(\"rnn1/rnn1/lstm_cell/mul_5:0\", shape=(1, 256), dtype=float32) Tensor(\"rnn1/rnn1/lstm_cell/concat_3:0\", shape=(1, 512), dtype=float32)\n",
      "10 3 Tensor(\"rnn1_1/Sigmoid:0\", shape=(1, 256), dtype=float32)\n",
      "10 4 Tensor(\"rnn2/rnn2/lstm_cell/mul_8:0\", shape=(1, 256), dtype=float32) Tensor(\"rnn2/rnn2/lstm_cell/concat_5:0\", shape=(1, 512), dtype=float32)\n",
      "10 5 Tensor(\"rnn2_2/clip_by_value:0\", shape=(1, 2), dtype=float32) Tensor(\"rnn2_2/StopGradient_1:0\", shape=(1, 2), dtype=float32) Tensor(\"rnn2_2/Sigmoid:0\", shape=(1, 256), dtype=float32)\n",
      "24 Tensor(\"Softmax_1:0\", shape=(1, 19), dtype=float32)\n",
      "11 1 Tensor(\"Relu_21:0\", shape=(1, 256), dtype=float32)\n",
      "11 2 Tensor(\"rnn1/rnn1/lstm_cell/mul_8:0\", shape=(1, 256), dtype=float32) Tensor(\"rnn1/rnn1/lstm_cell/concat_5:0\", shape=(1, 512), dtype=float32)\n",
      "11 3 Tensor(\"rnn1_2/Sigmoid:0\", shape=(1, 256), dtype=float32)\n",
      "11 4 Tensor(\"rnn2/rnn2/lstm_cell/mul_11:0\", shape=(1, 256), dtype=float32) Tensor(\"rnn2/rnn2/lstm_cell/concat_7:0\", shape=(1, 512), dtype=float32)\n",
      "11 5 Tensor(\"rnn2_3/clip_by_value:0\", shape=(1, 2), dtype=float32) Tensor(\"rnn2_3/StopGradient_1:0\", shape=(1, 2), dtype=float32) Tensor(\"rnn2_3/Sigmoid:0\", shape=(1, 256), dtype=float32)\n",
      "24 Tensor(\"Softmax_2:0\", shape=(1, 19), dtype=float32)\n",
      "12 1 Tensor(\"Relu_27:0\", shape=(1, 256), dtype=float32)\n",
      "12 2 Tensor(\"rnn1/rnn1/lstm_cell/mul_11:0\", shape=(1, 256), dtype=float32) Tensor(\"rnn1/rnn1/lstm_cell/concat_7:0\", shape=(1, 512), dtype=float32)\n",
      "12 3 Tensor(\"rnn1_3/Sigmoid:0\", shape=(1, 256), dtype=float32)\n",
      "12 4 Tensor(\"rnn2/rnn2/lstm_cell/mul_14:0\", shape=(1, 256), dtype=float32) Tensor(\"rnn2/rnn2/lstm_cell/concat_9:0\", shape=(1, 512), dtype=float32)\n",
      "12 5 Tensor(\"rnn2_4/clip_by_value:0\", shape=(1, 2), dtype=float32) Tensor(\"rnn2_4/StopGradient_1:0\", shape=(1, 2), dtype=float32) Tensor(\"rnn2_4/Sigmoid:0\", shape=(1, 256), dtype=float32)\n",
      "24 Tensor(\"Softmax_3:0\", shape=(1, 19), dtype=float32)\n",
      "13 1 Tensor(\"Relu_33:0\", shape=(1, 256), dtype=float32)\n",
      "13 2 Tensor(\"rnn1/rnn1/lstm_cell/mul_14:0\", shape=(1, 256), dtype=float32) Tensor(\"rnn1/rnn1/lstm_cell/concat_9:0\", shape=(1, 512), dtype=float32)\n",
      "13 3 Tensor(\"rnn1_4/Sigmoid:0\", shape=(1, 256), dtype=float32)\n",
      "13 4 Tensor(\"rnn2/rnn2/lstm_cell/mul_17:0\", shape=(1, 256), dtype=float32) Tensor(\"rnn2/rnn2/lstm_cell/concat_11:0\", shape=(1, 512), dtype=float32)\n",
      "13 5 Tensor(\"rnn2_5/clip_by_value:0\", shape=(1, 2), dtype=float32) Tensor(\"rnn2_5/StopGradient_1:0\", shape=(1, 2), dtype=float32) Tensor(\"rnn2_5/Sigmoid:0\", shape=(1, 256), dtype=float32)\n",
      "24 Tensor(\"Softmax_4:0\", shape=(1, 19), dtype=float32)\n",
      "14 1 Tensor(\"Relu_39:0\", shape=(1, 256), dtype=float32)\n",
      "14 2 Tensor(\"rnn1/rnn1/lstm_cell/mul_17:0\", shape=(1, 256), dtype=float32) Tensor(\"rnn1/rnn1/lstm_cell/concat_11:0\", shape=(1, 512), dtype=float32)\n",
      "14 3 Tensor(\"rnn1_5/Sigmoid:0\", shape=(1, 256), dtype=float32)\n",
      "14 4 Tensor(\"rnn2/rnn2/lstm_cell/mul_20:0\", shape=(1, 256), dtype=float32) Tensor(\"rnn2/rnn2/lstm_cell/concat_13:0\", shape=(1, 512), dtype=float32)\n",
      "14 5 Tensor(\"rnn2_6/clip_by_value:0\", shape=(1, 2), dtype=float32) Tensor(\"rnn2_6/StopGradient_1:0\", shape=(1, 2), dtype=float32) Tensor(\"rnn2_6/Sigmoid:0\", shape=(1, 256), dtype=float32)\n",
      "24 Tensor(\"Softmax_5:0\", shape=(1, 21), dtype=float32)\n",
      "15 1 Tensor(\"Relu_45:0\", shape=(1, 256), dtype=float32)\n",
      "15 2 Tensor(\"rnn1/rnn1/lstm_cell/mul_20:0\", shape=(1, 256), dtype=float32) Tensor(\"rnn1/rnn1/lstm_cell/concat_13:0\", shape=(1, 512), dtype=float32)\n",
      "15 3 Tensor(\"rnn1_6/Sigmoid:0\", shape=(1, 256), dtype=float32)\n",
      "15 4 Tensor(\"rnn2/rnn2/lstm_cell/mul_23:0\", shape=(1, 256), dtype=float32) Tensor(\"rnn2/rnn2/lstm_cell/concat_15:0\", shape=(1, 512), dtype=float32)\n",
      "15 5 Tensor(\"rnn2_7/clip_by_value:0\", shape=(1, 2), dtype=float32) Tensor(\"rnn2_7/StopGradient_1:0\", shape=(1, 2), dtype=float32) Tensor(\"rnn2_7/Sigmoid:0\", shape=(1, 256), dtype=float32)\n",
      "24 Tensor(\"Softmax_6:0\", shape=(1, 21), dtype=float32)\n",
      "16 1 Tensor(\"Relu_51:0\", shape=(1, 256), dtype=float32)\n",
      "16 2 Tensor(\"rnn1/rnn1/lstm_cell/mul_23:0\", shape=(1, 256), dtype=float32) Tensor(\"rnn1/rnn1/lstm_cell/concat_15:0\", shape=(1, 512), dtype=float32)\n",
      "16 3 Tensor(\"rnn1_7/Sigmoid:0\", shape=(1, 256), dtype=float32)\n",
      "16 4 Tensor(\"rnn2/rnn2/lstm_cell/mul_26:0\", shape=(1, 256), dtype=float32) Tensor(\"rnn2/rnn2/lstm_cell/concat_17:0\", shape=(1, 512), dtype=float32)\n",
      "16 5 Tensor(\"rnn2_8/clip_by_value:0\", shape=(1, 2), dtype=float32) Tensor(\"rnn2_8/StopGradient_1:0\", shape=(1, 2), dtype=float32) Tensor(\"rnn2_8/Sigmoid:0\", shape=(1, 256), dtype=float32)\n",
      "24 Tensor(\"Softmax_7:0\", shape=(1, 21), dtype=float32)\n",
      "17 1 Tensor(\"Relu_57:0\", shape=(1, 256), dtype=float32)\n",
      "17 2 Tensor(\"rnn1/rnn1/lstm_cell/mul_26:0\", shape=(1, 256), dtype=float32) Tensor(\"rnn1/rnn1/lstm_cell/concat_17:0\", shape=(1, 512), dtype=float32)\n",
      "17 3 Tensor(\"rnn1_8/Sigmoid:0\", shape=(1, 256), dtype=float32)\n",
      "17 4 Tensor(\"rnn2/rnn2/lstm_cell/mul_29:0\", shape=(1, 256), dtype=float32) Tensor(\"rnn2/rnn2/lstm_cell/concat_19:0\", shape=(1, 512), dtype=float32)\n",
      "17 5 Tensor(\"rnn2_9/clip_by_value:0\", shape=(1, 2), dtype=float32) Tensor(\"rnn2_9/StopGradient_1:0\", shape=(1, 2), dtype=float32) Tensor(\"rnn2_9/Sigmoid:0\", shape=(1, 256), dtype=float32)\n",
      "24 Tensor(\"Softmax_8:0\", shape=(1, 21), dtype=float32)\n",
      "18 1 Tensor(\"Relu_63:0\", shape=(1, 256), dtype=float32)\n",
      "18 2 Tensor(\"rnn1/rnn1/lstm_cell/mul_29:0\", shape=(1, 256), dtype=float32) Tensor(\"rnn1/rnn1/lstm_cell/concat_19:0\", shape=(1, 512), dtype=float32)\n",
      "18 3 Tensor(\"rnn1_9/Sigmoid:0\", shape=(1, 256), dtype=float32)\n",
      "18 4 Tensor(\"rnn2/rnn2/lstm_cell/mul_32:0\", shape=(1, 256), dtype=float32) Tensor(\"rnn2/rnn2/lstm_cell/concat_21:0\", shape=(1, 512), dtype=float32)\n",
      "18 5 Tensor(\"rnn2_10/clip_by_value:0\", shape=(1, 2), dtype=float32) Tensor(\"rnn2_10/StopGradient_1:0\", shape=(1, 2), dtype=float32) Tensor(\"rnn2_10/Sigmoid:0\", shape=(1, 256), dtype=float32)\n",
      "24 Tensor(\"Softmax_9:0\", shape=(1, 21), dtype=float32)\n",
      "19 1 Tensor(\"Relu_69:0\", shape=(1, 256), dtype=float32)\n",
      "19 2 Tensor(\"rnn1/rnn1/lstm_cell/mul_32:0\", shape=(1, 256), dtype=float32) Tensor(\"rnn1/rnn1/lstm_cell/concat_21:0\", shape=(1, 512), dtype=float32)\n",
      "19 3 Tensor(\"rnn1_10/Sigmoid:0\", shape=(1, 256), dtype=float32)\n",
      "19 4 Tensor(\"rnn2/rnn2/lstm_cell/mul_35:0\", shape=(1, 256), dtype=float32) Tensor(\"rnn2/rnn2/lstm_cell/concat_23:0\", shape=(1, 512), dtype=float32)\n",
      "19 5 Tensor(\"rnn2_11/clip_by_value:0\", shape=(1, 2), dtype=float32) Tensor(\"rnn2_11/StopGradient_1:0\", shape=(1, 2), dtype=float32) Tensor(\"rnn2_11/Sigmoid:0\", shape=(1, 256), dtype=float32)\n",
      "24 Tensor(\"Softmax_10:0\", shape=(1, 28), dtype=float32)\n",
      "20 1 Tensor(\"Relu_75:0\", shape=(1, 256), dtype=float32)\n",
      "20 2 Tensor(\"rnn1/rnn1/lstm_cell/mul_35:0\", shape=(1, 256), dtype=float32) Tensor(\"rnn1/rnn1/lstm_cell/concat_23:0\", shape=(1, 512), dtype=float32)\n",
      "20 3 Tensor(\"rnn1_11/Sigmoid:0\", shape=(1, 256), dtype=float32)\n",
      "20 4 Tensor(\"rnn2/rnn2/lstm_cell/mul_38:0\", shape=(1, 256), dtype=float32) Tensor(\"rnn2/rnn2/lstm_cell/concat_25:0\", shape=(1, 512), dtype=float32)\n"
     ]
    },
    {
     "name": "stdout",
     "output_type": "stream",
     "text": [
      "20 5 Tensor(\"rnn2_12/clip_by_value:0\", shape=(1, 2), dtype=float32) Tensor(\"rnn2_12/StopGradient_1:0\", shape=(1, 2), dtype=float32) Tensor(\"rnn2_12/Sigmoid:0\", shape=(1, 256), dtype=float32)\n",
      "24 Tensor(\"Softmax_11:0\", shape=(1, 28), dtype=float32)\n",
      "21 1 Tensor(\"Relu_81:0\", shape=(1, 256), dtype=float32)\n",
      "21 2 Tensor(\"rnn1/rnn1/lstm_cell/mul_38:0\", shape=(1, 256), dtype=float32) Tensor(\"rnn1/rnn1/lstm_cell/concat_25:0\", shape=(1, 512), dtype=float32)\n",
      "21 3 Tensor(\"rnn1_12/Sigmoid:0\", shape=(1, 256), dtype=float32)\n",
      "21 4 Tensor(\"rnn2/rnn2/lstm_cell/mul_41:0\", shape=(1, 256), dtype=float32) Tensor(\"rnn2/rnn2/lstm_cell/concat_27:0\", shape=(1, 512), dtype=float32)\n",
      "21 5 Tensor(\"rnn2_13/clip_by_value:0\", shape=(1, 2), dtype=float32) Tensor(\"rnn2_13/StopGradient_1:0\", shape=(1, 2), dtype=float32) Tensor(\"rnn2_13/Sigmoid:0\", shape=(1, 256), dtype=float32)\n",
      "24 Tensor(\"Softmax_12:0\", shape=(1, 28), dtype=float32)\n",
      "22 1 Tensor(\"Relu_87:0\", shape=(1, 256), dtype=float32)\n",
      "22 2 Tensor(\"rnn1/rnn1/lstm_cell/mul_41:0\", shape=(1, 256), dtype=float32) Tensor(\"rnn1/rnn1/lstm_cell/concat_27:0\", shape=(1, 512), dtype=float32)\n",
      "22 3 Tensor(\"rnn1_13/Sigmoid:0\", shape=(1, 256), dtype=float32)\n",
      "22 4 Tensor(\"rnn2/rnn2/lstm_cell/mul_44:0\", shape=(1, 256), dtype=float32) Tensor(\"rnn2/rnn2/lstm_cell/concat_29:0\", shape=(1, 512), dtype=float32)\n",
      "22 5 Tensor(\"rnn2_14/clip_by_value:0\", shape=(1, 2), dtype=float32) Tensor(\"rnn2_14/StopGradient_1:0\", shape=(1, 2), dtype=float32) Tensor(\"rnn2_14/Sigmoid:0\", shape=(1, 256), dtype=float32)\n",
      "24 Tensor(\"Softmax_13:0\", shape=(1, 28), dtype=float32)\n",
      "23 1 Tensor(\"Relu_93:0\", shape=(1, 256), dtype=float32)\n",
      "23 2 Tensor(\"rnn1/rnn1/lstm_cell/mul_44:0\", shape=(1, 256), dtype=float32) Tensor(\"rnn1/rnn1/lstm_cell/concat_29:0\", shape=(1, 512), dtype=float32)\n",
      "23 3 Tensor(\"rnn1_14/Sigmoid:0\", shape=(1, 256), dtype=float32)\n",
      "23 4 Tensor(\"rnn2/rnn2/lstm_cell/mul_47:0\", shape=(1, 256), dtype=float32) Tensor(\"rnn2/rnn2/lstm_cell/concat_31:0\", shape=(1, 512), dtype=float32)\n",
      "23 5 Tensor(\"rnn2_15/clip_by_value:0\", shape=(1, 2), dtype=float32) Tensor(\"rnn2_15/StopGradient_1:0\", shape=(1, 2), dtype=float32) Tensor(\"rnn2_15/Sigmoid:0\", shape=(1, 256), dtype=float32)\n",
      "24 Tensor(\"Softmax_14:0\", shape=(1, 28), dtype=float32)\n"
     ]
    }
   ],
   "source": [
    " outputs, mean_locs, sampled_locs, baselines, actions = model(x, w, b)"
   ]
  },
  {
   "cell_type": "code",
   "execution_count": 8,
   "metadata": {},
   "outputs": [
    {
     "data": {
      "text/plain": [
       "(15, 16, 16, 16, 15)"
      ]
     },
     "execution_count": 8,
     "metadata": {},
     "output_type": "execute_result"
    }
   ],
   "source": [
    "len(outputs), len(mean_locs), len(sampled_locs), len(baselines), len(actions)"
   ]
  },
  {
   "cell_type": "code",
   "execution_count": 9,
   "metadata": {},
   "outputs": [
    {
     "data": {
      "text/plain": [
       "[<tf.Tensor 'Softmax:0' shape=(1, 19) dtype=float32>,\n",
       " <tf.Tensor 'Softmax_1:0' shape=(1, 19) dtype=float32>,\n",
       " <tf.Tensor 'Softmax_2:0' shape=(1, 19) dtype=float32>,\n",
       " <tf.Tensor 'Softmax_3:0' shape=(1, 19) dtype=float32>,\n",
       " <tf.Tensor 'Softmax_4:0' shape=(1, 19) dtype=float32>,\n",
       " <tf.Tensor 'Softmax_5:0' shape=(1, 21) dtype=float32>,\n",
       " <tf.Tensor 'Softmax_6:0' shape=(1, 21) dtype=float32>,\n",
       " <tf.Tensor 'Softmax_7:0' shape=(1, 21) dtype=float32>,\n",
       " <tf.Tensor 'Softmax_8:0' shape=(1, 21) dtype=float32>,\n",
       " <tf.Tensor 'Softmax_9:0' shape=(1, 21) dtype=float32>,\n",
       " <tf.Tensor 'Softmax_10:0' shape=(1, 28) dtype=float32>,\n",
       " <tf.Tensor 'Softmax_11:0' shape=(1, 28) dtype=float32>,\n",
       " <tf.Tensor 'Softmax_12:0' shape=(1, 28) dtype=float32>,\n",
       " <tf.Tensor 'Softmax_13:0' shape=(1, 28) dtype=float32>,\n",
       " <tf.Tensor 'Softmax_14:0' shape=(1, 28) dtype=float32>]"
      ]
     },
     "execution_count": 9,
     "metadata": {},
     "output_type": "execute_result"
    }
   ],
   "source": [
    "actions"
   ]
  },
  {
   "cell_type": "code",
   "execution_count": null,
   "metadata": {},
   "outputs": [],
   "source": []
  },
  {
   "cell_type": "markdown",
   "metadata": {},
   "source": [
    "### Model 함수 호출해서 결과 나오는지, 그리고 그 결과를 Session 돌려서 그림에 시각화해보자\n",
    "### Batch Size를 고정시켜두었는데, 이부분을 None으로 할 때에는 어떻게 해야할 지 고민해볼 것.\n",
    "###   첫번째 context network 다음에 rnn으로 입력하는 텐서의 값을 초기에는 zeros를 하는데,\n",
    "###  이때 zeros를 만들 때, batch size가 undefined되있으면 안됨."
   ]
  },
  {
   "cell_type": "code",
   "execution_count": null,
   "metadata": {},
   "outputs": [],
   "source": []
  },
  {
   "cell_type": "code",
   "execution_count": null,
   "metadata": {},
   "outputs": [],
   "source": []
  },
  {
   "cell_type": "code",
   "execution_count": 10,
   "metadata": {},
   "outputs": [],
   "source": [
    "def visualize_glimpse_movement(img, locs):\n",
    "    rows = img.shape[0]\n",
    "    cols = img.shape[1]\n",
    "    n_channel = img.shape[2]\n",
    "    disp = img.copy()\n",
    "    if n_channel == 1:\n",
    "        disp = cv2.cvtColor(disp, cv2.COLOR_GRAY2BGR)\n",
    "    \n",
    "    pts = []\n",
    "    for loc in locs:\n",
    "        x = int((loc[0] + 1) * 0.5 * cols + 0.5)\n",
    "        y = int((loc[1] + 1) * 0.5 * rows + 0.5)\n",
    "        pts.append((x, y))\n",
    "        \n",
    "        cv2.circle(disp, (x, y), 1, (0, 255, 0), 2)\n",
    "    cv2.circle(disp, pts[0], 1, (255, 0, 0), 2)\n",
    "    cv2.circle(disp, pts[-1], 1, (0, 0, 255), 2)\n",
    "    \n",
    "    for i in range(len(pts) - 1):\n",
    "        cv2.line(disp, pts[i], pts[i+1], (0, 255, 0), 1)\n",
    "    return disp"
   ]
  },
  {
   "cell_type": "code",
   "execution_count": 17,
   "metadata": {},
   "outputs": [],
   "source": [
    "image = images[0]\n",
    "image = np.reshape(image, [1, img_sz, img_sz, 1])\n",
    "image = image.astype(np.float32) / 255"
   ]
  },
  {
   "cell_type": "code",
   "execution_count": null,
   "metadata": {},
   "outputs": [],
   "source": []
  },
  {
   "cell_type": "code",
   "execution_count": 20,
   "metadata": {},
   "outputs": [
    {
     "ename": "InvalidArgumentError",
     "evalue": "Expected size[1] in [0, 0], but got 256\n\t [[Node: rnn2/rnn2/lstm_cell/Slice_1 = Slice[Index=DT_INT32, T=DT_FLOAT, _device=\"/job:localhost/replica:0/task:0/device:CPU:0\"](Relu_3, rnn2/rnn2/lstm_cell/Slice_1/begin, rnn2/rnn2/lstm_cell/Slice/size)]]\n\nCaused by op 'rnn2/rnn2/lstm_cell/Slice_1', defined at:\n  File \"/Library/Frameworks/Python.framework/Versions/3.6/lib/python3.6/runpy.py\", line 193, in _run_module_as_main\n    \"__main__\", mod_spec)\n  File \"/Library/Frameworks/Python.framework/Versions/3.6/lib/python3.6/runpy.py\", line 85, in _run_code\n    exec(code, run_globals)\n  File \"/Users/kimsu/py36tf1x/lib/python3.6/site-packages/ipykernel_launcher.py\", line 16, in <module>\n    app.launch_new_instance()\n  File \"/Users/kimsu/py36tf1x/lib/python3.6/site-packages/traitlets/config/application.py\", line 658, in launch_instance\n    app.start()\n  File \"/Users/kimsu/py36tf1x/lib/python3.6/site-packages/ipykernel/kernelapp.py\", line 478, in start\n    self.io_loop.start()\n  File \"/Users/kimsu/py36tf1x/lib/python3.6/site-packages/zmq/eventloop/ioloop.py\", line 177, in start\n    super(ZMQIOLoop, self).start()\n  File \"/Users/kimsu/py36tf1x/lib/python3.6/site-packages/tornado/ioloop.py\", line 888, in start\n    handler_func(fd_obj, events)\n  File \"/Users/kimsu/py36tf1x/lib/python3.6/site-packages/tornado/stack_context.py\", line 277, in null_wrapper\n    return fn(*args, **kwargs)\n  File \"/Users/kimsu/py36tf1x/lib/python3.6/site-packages/zmq/eventloop/zmqstream.py\", line 440, in _handle_events\n    self._handle_recv()\n  File \"/Users/kimsu/py36tf1x/lib/python3.6/site-packages/zmq/eventloop/zmqstream.py\", line 472, in _handle_recv\n    self._run_callback(callback, msg)\n  File \"/Users/kimsu/py36tf1x/lib/python3.6/site-packages/zmq/eventloop/zmqstream.py\", line 414, in _run_callback\n    callback(*args, **kwargs)\n  File \"/Users/kimsu/py36tf1x/lib/python3.6/site-packages/tornado/stack_context.py\", line 277, in null_wrapper\n    return fn(*args, **kwargs)\n  File \"/Users/kimsu/py36tf1x/lib/python3.6/site-packages/ipykernel/kernelbase.py\", line 283, in dispatcher\n    return self.dispatch_shell(stream, msg)\n  File \"/Users/kimsu/py36tf1x/lib/python3.6/site-packages/ipykernel/kernelbase.py\", line 233, in dispatch_shell\n    handler(stream, idents, msg)\n  File \"/Users/kimsu/py36tf1x/lib/python3.6/site-packages/ipykernel/kernelbase.py\", line 399, in execute_request\n    user_expressions, allow_stdin)\n  File \"/Users/kimsu/py36tf1x/lib/python3.6/site-packages/ipykernel/ipkernel.py\", line 208, in do_execute\n    res = shell.run_cell(code, store_history=store_history, silent=silent)\n  File \"/Users/kimsu/py36tf1x/lib/python3.6/site-packages/ipykernel/zmqshell.py\", line 537, in run_cell\n    return super(ZMQInteractiveShell, self).run_cell(*args, **kwargs)\n  File \"/Users/kimsu/py36tf1x/lib/python3.6/site-packages/IPython/core/interactiveshell.py\", line 2728, in run_cell\n    interactivity=interactivity, compiler=compiler, result=result)\n  File \"/Users/kimsu/py36tf1x/lib/python3.6/site-packages/IPython/core/interactiveshell.py\", line 2850, in run_ast_nodes\n    if self.run_code(code, result):\n  File \"/Users/kimsu/py36tf1x/lib/python3.6/site-packages/IPython/core/interactiveshell.py\", line 2910, in run_code\n    exec(code_obj, self.user_global_ns, self.user_ns)\n  File \"<ipython-input-7-9273f655ff48>\", line 1, in <module>\n    outputs, mean_locs, sampled_locs, baselines, actions = model(x, w, b)\n  File \"/Users/kimsu/src/koreanRecognition/attention/attention.py\", line 176, in model\n    h2, state2 = rnn2(h1, context_feature)\n  File \"/Users/kimsu/py36tf1x/lib/python3.6/site-packages/tensorflow/python/ops/rnn_cell_impl.py\", line 183, in __call__\n    return super(RNNCell, self).__call__(inputs, state)\n  File \"/Users/kimsu/py36tf1x/lib/python3.6/site-packages/tensorflow/python/layers/base.py\", line 575, in __call__\n    outputs = self.call(inputs, *args, **kwargs)\n  File \"/Users/kimsu/py36tf1x/lib/python3.6/site-packages/tensorflow/python/ops/rnn_cell_impl.py\", line 594, in call\n    m_prev = array_ops.slice(state, [0, self._num_units], [-1, num_proj])\n  File \"/Users/kimsu/py36tf1x/lib/python3.6/site-packages/tensorflow/python/ops/array_ops.py\", line 590, in slice\n    return gen_array_ops._slice(input_, begin, size, name=name)\n  File \"/Users/kimsu/py36tf1x/lib/python3.6/site-packages/tensorflow/python/ops/gen_array_ops.py\", line 4635, in _slice\n    \"Slice\", input=input, begin=begin, size=size, name=name)\n  File \"/Users/kimsu/py36tf1x/lib/python3.6/site-packages/tensorflow/python/framework/op_def_library.py\", line 787, in _apply_op_helper\n    op_def=op_def)\n  File \"/Users/kimsu/py36tf1x/lib/python3.6/site-packages/tensorflow/python/framework/ops.py\", line 2956, in create_op\n    op_def=op_def)\n  File \"/Users/kimsu/py36tf1x/lib/python3.6/site-packages/tensorflow/python/framework/ops.py\", line 1470, in __init__\n    self._traceback = self._graph._extract_stack()  # pylint: disable=protected-access\n\nInvalidArgumentError (see above for traceback): Expected size[1] in [0, 0], but got 256\n\t [[Node: rnn2/rnn2/lstm_cell/Slice_1 = Slice[Index=DT_INT32, T=DT_FLOAT, _device=\"/job:localhost/replica:0/task:0/device:CPU:0\"](Relu_3, rnn2/rnn2/lstm_cell/Slice_1/begin, rnn2/rnn2/lstm_cell/Slice/size)]]\n",
     "output_type": "error",
     "traceback": [
      "\u001b[0;31m---------------------------------------------------------------------------\u001b[0m",
      "\u001b[0;31mInvalidArgumentError\u001b[0m                      Traceback (most recent call last)",
      "\u001b[0;32m~/py36tf1x/lib/python3.6/site-packages/tensorflow/python/client/session.py\u001b[0m in \u001b[0;36m_do_call\u001b[0;34m(self, fn, *args)\u001b[0m\n\u001b[1;32m   1322\u001b[0m     \u001b[0;32mtry\u001b[0m\u001b[0;34m:\u001b[0m\u001b[0;34m\u001b[0m\u001b[0m\n\u001b[0;32m-> 1323\u001b[0;31m       \u001b[0;32mreturn\u001b[0m \u001b[0mfn\u001b[0m\u001b[0;34m(\u001b[0m\u001b[0;34m*\u001b[0m\u001b[0margs\u001b[0m\u001b[0;34m)\u001b[0m\u001b[0;34m\u001b[0m\u001b[0m\n\u001b[0m\u001b[1;32m   1324\u001b[0m     \u001b[0;32mexcept\u001b[0m \u001b[0merrors\u001b[0m\u001b[0;34m.\u001b[0m\u001b[0mOpError\u001b[0m \u001b[0;32mas\u001b[0m \u001b[0me\u001b[0m\u001b[0;34m:\u001b[0m\u001b[0;34m\u001b[0m\u001b[0m\n",
      "\u001b[0;32m~/py36tf1x/lib/python3.6/site-packages/tensorflow/python/client/session.py\u001b[0m in \u001b[0;36m_run_fn\u001b[0;34m(session, feed_dict, fetch_list, target_list, options, run_metadata)\u001b[0m\n\u001b[1;32m   1301\u001b[0m                                    \u001b[0mfeed_dict\u001b[0m\u001b[0;34m,\u001b[0m \u001b[0mfetch_list\u001b[0m\u001b[0;34m,\u001b[0m \u001b[0mtarget_list\u001b[0m\u001b[0;34m,\u001b[0m\u001b[0;34m\u001b[0m\u001b[0m\n\u001b[0;32m-> 1302\u001b[0;31m                                    status, run_metadata)\n\u001b[0m\u001b[1;32m   1303\u001b[0m \u001b[0;34m\u001b[0m\u001b[0m\n",
      "\u001b[0;32m~/py36tf1x/lib/python3.6/site-packages/tensorflow/python/framework/errors_impl.py\u001b[0m in \u001b[0;36m__exit__\u001b[0;34m(self, type_arg, value_arg, traceback_arg)\u001b[0m\n\u001b[1;32m    472\u001b[0m             \u001b[0mcompat\u001b[0m\u001b[0;34m.\u001b[0m\u001b[0mas_text\u001b[0m\u001b[0;34m(\u001b[0m\u001b[0mc_api\u001b[0m\u001b[0;34m.\u001b[0m\u001b[0mTF_Message\u001b[0m\u001b[0;34m(\u001b[0m\u001b[0mself\u001b[0m\u001b[0;34m.\u001b[0m\u001b[0mstatus\u001b[0m\u001b[0;34m.\u001b[0m\u001b[0mstatus\u001b[0m\u001b[0;34m)\u001b[0m\u001b[0;34m)\u001b[0m\u001b[0;34m,\u001b[0m\u001b[0;34m\u001b[0m\u001b[0m\n\u001b[0;32m--> 473\u001b[0;31m             c_api.TF_GetCode(self.status.status))\n\u001b[0m\u001b[1;32m    474\u001b[0m     \u001b[0;31m# Delete the underlying status object from memory otherwise it stays alive\u001b[0m\u001b[0;34m\u001b[0m\u001b[0;34m\u001b[0m\u001b[0m\n",
      "\u001b[0;31mInvalidArgumentError\u001b[0m: Expected size[1] in [0, 0], but got 256\n\t [[Node: rnn2/rnn2/lstm_cell/Slice_1 = Slice[Index=DT_INT32, T=DT_FLOAT, _device=\"/job:localhost/replica:0/task:0/device:CPU:0\"](Relu_3, rnn2/rnn2/lstm_cell/Slice_1/begin, rnn2/rnn2/lstm_cell/Slice/size)]]",
      "\nDuring handling of the above exception, another exception occurred:\n",
      "\u001b[0;31mInvalidArgumentError\u001b[0m                      Traceback (most recent call last)",
      "\u001b[0;32m<ipython-input-20-de215ce739ed>\u001b[0m in \u001b[0;36m<module>\u001b[0;34m()\u001b[0m\n\u001b[1;32m      2\u001b[0m     \u001b[0msess\u001b[0m\u001b[0;34m.\u001b[0m\u001b[0mrun\u001b[0m\u001b[0;34m(\u001b[0m\u001b[0mtf\u001b[0m\u001b[0;34m.\u001b[0m\u001b[0mglobal_variables_initializer\u001b[0m\u001b[0;34m(\u001b[0m\u001b[0;34m)\u001b[0m\u001b[0;34m)\u001b[0m\u001b[0;34m\u001b[0m\u001b[0m\n\u001b[1;32m      3\u001b[0m \u001b[0;34m\u001b[0m\u001b[0m\n\u001b[0;32m----> 4\u001b[0;31m     \u001b[0mlocs\u001b[0m \u001b[0;34m=\u001b[0m \u001b[0msess\u001b[0m\u001b[0;34m.\u001b[0m\u001b[0mrun\u001b[0m\u001b[0;34m(\u001b[0m\u001b[0mmean_locs\u001b[0m\u001b[0;34m[\u001b[0m\u001b[0;36m0\u001b[0m\u001b[0;34m]\u001b[0m\u001b[0;34m,\u001b[0m \u001b[0mfeed_dict\u001b[0m\u001b[0;34m=\u001b[0m\u001b[0;34m{\u001b[0m\u001b[0mx\u001b[0m\u001b[0;34m:\u001b[0m\u001b[0mimage\u001b[0m\u001b[0;34m}\u001b[0m\u001b[0;34m)\u001b[0m\u001b[0;34m\u001b[0m\u001b[0m\n\u001b[0m\u001b[1;32m      5\u001b[0m \u001b[0;34m\u001b[0m\u001b[0m\n",
      "\u001b[0;32m~/py36tf1x/lib/python3.6/site-packages/tensorflow/python/client/session.py\u001b[0m in \u001b[0;36mrun\u001b[0;34m(self, fetches, feed_dict, options, run_metadata)\u001b[0m\n\u001b[1;32m    887\u001b[0m     \u001b[0;32mtry\u001b[0m\u001b[0;34m:\u001b[0m\u001b[0;34m\u001b[0m\u001b[0m\n\u001b[1;32m    888\u001b[0m       result = self._run(None, fetches, feed_dict, options_ptr,\n\u001b[0;32m--> 889\u001b[0;31m                          run_metadata_ptr)\n\u001b[0m\u001b[1;32m    890\u001b[0m       \u001b[0;32mif\u001b[0m \u001b[0mrun_metadata\u001b[0m\u001b[0;34m:\u001b[0m\u001b[0;34m\u001b[0m\u001b[0m\n\u001b[1;32m    891\u001b[0m         \u001b[0mproto_data\u001b[0m \u001b[0;34m=\u001b[0m \u001b[0mtf_session\u001b[0m\u001b[0;34m.\u001b[0m\u001b[0mTF_GetBuffer\u001b[0m\u001b[0;34m(\u001b[0m\u001b[0mrun_metadata_ptr\u001b[0m\u001b[0;34m)\u001b[0m\u001b[0;34m\u001b[0m\u001b[0m\n",
      "\u001b[0;32m~/py36tf1x/lib/python3.6/site-packages/tensorflow/python/client/session.py\u001b[0m in \u001b[0;36m_run\u001b[0;34m(self, handle, fetches, feed_dict, options, run_metadata)\u001b[0m\n\u001b[1;32m   1118\u001b[0m     \u001b[0;32mif\u001b[0m \u001b[0mfinal_fetches\u001b[0m \u001b[0;32mor\u001b[0m \u001b[0mfinal_targets\u001b[0m \u001b[0;32mor\u001b[0m \u001b[0;34m(\u001b[0m\u001b[0mhandle\u001b[0m \u001b[0;32mand\u001b[0m \u001b[0mfeed_dict_tensor\u001b[0m\u001b[0;34m)\u001b[0m\u001b[0;34m:\u001b[0m\u001b[0;34m\u001b[0m\u001b[0m\n\u001b[1;32m   1119\u001b[0m       results = self._do_run(handle, final_targets, final_fetches,\n\u001b[0;32m-> 1120\u001b[0;31m                              feed_dict_tensor, options, run_metadata)\n\u001b[0m\u001b[1;32m   1121\u001b[0m     \u001b[0;32melse\u001b[0m\u001b[0;34m:\u001b[0m\u001b[0;34m\u001b[0m\u001b[0m\n\u001b[1;32m   1122\u001b[0m       \u001b[0mresults\u001b[0m \u001b[0;34m=\u001b[0m \u001b[0;34m[\u001b[0m\u001b[0;34m]\u001b[0m\u001b[0;34m\u001b[0m\u001b[0m\n",
      "\u001b[0;32m~/py36tf1x/lib/python3.6/site-packages/tensorflow/python/client/session.py\u001b[0m in \u001b[0;36m_do_run\u001b[0;34m(self, handle, target_list, fetch_list, feed_dict, options, run_metadata)\u001b[0m\n\u001b[1;32m   1315\u001b[0m     \u001b[0;32mif\u001b[0m \u001b[0mhandle\u001b[0m \u001b[0;32mis\u001b[0m \u001b[0;32mNone\u001b[0m\u001b[0;34m:\u001b[0m\u001b[0;34m\u001b[0m\u001b[0m\n\u001b[1;32m   1316\u001b[0m       return self._do_call(_run_fn, self._session, feeds, fetches, targets,\n\u001b[0;32m-> 1317\u001b[0;31m                            options, run_metadata)\n\u001b[0m\u001b[1;32m   1318\u001b[0m     \u001b[0;32melse\u001b[0m\u001b[0;34m:\u001b[0m\u001b[0;34m\u001b[0m\u001b[0m\n\u001b[1;32m   1319\u001b[0m       \u001b[0;32mreturn\u001b[0m \u001b[0mself\u001b[0m\u001b[0;34m.\u001b[0m\u001b[0m_do_call\u001b[0m\u001b[0;34m(\u001b[0m\u001b[0m_prun_fn\u001b[0m\u001b[0;34m,\u001b[0m \u001b[0mself\u001b[0m\u001b[0;34m.\u001b[0m\u001b[0m_session\u001b[0m\u001b[0;34m,\u001b[0m \u001b[0mhandle\u001b[0m\u001b[0;34m,\u001b[0m \u001b[0mfeeds\u001b[0m\u001b[0;34m,\u001b[0m \u001b[0mfetches\u001b[0m\u001b[0;34m)\u001b[0m\u001b[0;34m\u001b[0m\u001b[0m\n",
      "\u001b[0;32m~/py36tf1x/lib/python3.6/site-packages/tensorflow/python/client/session.py\u001b[0m in \u001b[0;36m_do_call\u001b[0;34m(self, fn, *args)\u001b[0m\n\u001b[1;32m   1334\u001b[0m         \u001b[0;32mexcept\u001b[0m \u001b[0mKeyError\u001b[0m\u001b[0;34m:\u001b[0m\u001b[0;34m\u001b[0m\u001b[0m\n\u001b[1;32m   1335\u001b[0m           \u001b[0;32mpass\u001b[0m\u001b[0;34m\u001b[0m\u001b[0m\n\u001b[0;32m-> 1336\u001b[0;31m       \u001b[0;32mraise\u001b[0m \u001b[0mtype\u001b[0m\u001b[0;34m(\u001b[0m\u001b[0me\u001b[0m\u001b[0;34m)\u001b[0m\u001b[0;34m(\u001b[0m\u001b[0mnode_def\u001b[0m\u001b[0;34m,\u001b[0m \u001b[0mop\u001b[0m\u001b[0;34m,\u001b[0m \u001b[0mmessage\u001b[0m\u001b[0;34m)\u001b[0m\u001b[0;34m\u001b[0m\u001b[0m\n\u001b[0m\u001b[1;32m   1337\u001b[0m \u001b[0;34m\u001b[0m\u001b[0m\n\u001b[1;32m   1338\u001b[0m   \u001b[0;32mdef\u001b[0m \u001b[0m_extend_graph\u001b[0m\u001b[0;34m(\u001b[0m\u001b[0mself\u001b[0m\u001b[0;34m)\u001b[0m\u001b[0;34m:\u001b[0m\u001b[0;34m\u001b[0m\u001b[0m\n",
      "\u001b[0;31mInvalidArgumentError\u001b[0m: Expected size[1] in [0, 0], but got 256\n\t [[Node: rnn2/rnn2/lstm_cell/Slice_1 = Slice[Index=DT_INT32, T=DT_FLOAT, _device=\"/job:localhost/replica:0/task:0/device:CPU:0\"](Relu_3, rnn2/rnn2/lstm_cell/Slice_1/begin, rnn2/rnn2/lstm_cell/Slice/size)]]\n\nCaused by op 'rnn2/rnn2/lstm_cell/Slice_1', defined at:\n  File \"/Library/Frameworks/Python.framework/Versions/3.6/lib/python3.6/runpy.py\", line 193, in _run_module_as_main\n    \"__main__\", mod_spec)\n  File \"/Library/Frameworks/Python.framework/Versions/3.6/lib/python3.6/runpy.py\", line 85, in _run_code\n    exec(code, run_globals)\n  File \"/Users/kimsu/py36tf1x/lib/python3.6/site-packages/ipykernel_launcher.py\", line 16, in <module>\n    app.launch_new_instance()\n  File \"/Users/kimsu/py36tf1x/lib/python3.6/site-packages/traitlets/config/application.py\", line 658, in launch_instance\n    app.start()\n  File \"/Users/kimsu/py36tf1x/lib/python3.6/site-packages/ipykernel/kernelapp.py\", line 478, in start\n    self.io_loop.start()\n  File \"/Users/kimsu/py36tf1x/lib/python3.6/site-packages/zmq/eventloop/ioloop.py\", line 177, in start\n    super(ZMQIOLoop, self).start()\n  File \"/Users/kimsu/py36tf1x/lib/python3.6/site-packages/tornado/ioloop.py\", line 888, in start\n    handler_func(fd_obj, events)\n  File \"/Users/kimsu/py36tf1x/lib/python3.6/site-packages/tornado/stack_context.py\", line 277, in null_wrapper\n    return fn(*args, **kwargs)\n  File \"/Users/kimsu/py36tf1x/lib/python3.6/site-packages/zmq/eventloop/zmqstream.py\", line 440, in _handle_events\n    self._handle_recv()\n  File \"/Users/kimsu/py36tf1x/lib/python3.6/site-packages/zmq/eventloop/zmqstream.py\", line 472, in _handle_recv\n    self._run_callback(callback, msg)\n  File \"/Users/kimsu/py36tf1x/lib/python3.6/site-packages/zmq/eventloop/zmqstream.py\", line 414, in _run_callback\n    callback(*args, **kwargs)\n  File \"/Users/kimsu/py36tf1x/lib/python3.6/site-packages/tornado/stack_context.py\", line 277, in null_wrapper\n    return fn(*args, **kwargs)\n  File \"/Users/kimsu/py36tf1x/lib/python3.6/site-packages/ipykernel/kernelbase.py\", line 283, in dispatcher\n    return self.dispatch_shell(stream, msg)\n  File \"/Users/kimsu/py36tf1x/lib/python3.6/site-packages/ipykernel/kernelbase.py\", line 233, in dispatch_shell\n    handler(stream, idents, msg)\n  File \"/Users/kimsu/py36tf1x/lib/python3.6/site-packages/ipykernel/kernelbase.py\", line 399, in execute_request\n    user_expressions, allow_stdin)\n  File \"/Users/kimsu/py36tf1x/lib/python3.6/site-packages/ipykernel/ipkernel.py\", line 208, in do_execute\n    res = shell.run_cell(code, store_history=store_history, silent=silent)\n  File \"/Users/kimsu/py36tf1x/lib/python3.6/site-packages/ipykernel/zmqshell.py\", line 537, in run_cell\n    return super(ZMQInteractiveShell, self).run_cell(*args, **kwargs)\n  File \"/Users/kimsu/py36tf1x/lib/python3.6/site-packages/IPython/core/interactiveshell.py\", line 2728, in run_cell\n    interactivity=interactivity, compiler=compiler, result=result)\n  File \"/Users/kimsu/py36tf1x/lib/python3.6/site-packages/IPython/core/interactiveshell.py\", line 2850, in run_ast_nodes\n    if self.run_code(code, result):\n  File \"/Users/kimsu/py36tf1x/lib/python3.6/site-packages/IPython/core/interactiveshell.py\", line 2910, in run_code\n    exec(code_obj, self.user_global_ns, self.user_ns)\n  File \"<ipython-input-7-9273f655ff48>\", line 1, in <module>\n    outputs, mean_locs, sampled_locs, baselines, actions = model(x, w, b)\n  File \"/Users/kimsu/src/koreanRecognition/attention/attention.py\", line 176, in model\n    h2, state2 = rnn2(h1, context_feature)\n  File \"/Users/kimsu/py36tf1x/lib/python3.6/site-packages/tensorflow/python/ops/rnn_cell_impl.py\", line 183, in __call__\n    return super(RNNCell, self).__call__(inputs, state)\n  File \"/Users/kimsu/py36tf1x/lib/python3.6/site-packages/tensorflow/python/layers/base.py\", line 575, in __call__\n    outputs = self.call(inputs, *args, **kwargs)\n  File \"/Users/kimsu/py36tf1x/lib/python3.6/site-packages/tensorflow/python/ops/rnn_cell_impl.py\", line 594, in call\n    m_prev = array_ops.slice(state, [0, self._num_units], [-1, num_proj])\n  File \"/Users/kimsu/py36tf1x/lib/python3.6/site-packages/tensorflow/python/ops/array_ops.py\", line 590, in slice\n    return gen_array_ops._slice(input_, begin, size, name=name)\n  File \"/Users/kimsu/py36tf1x/lib/python3.6/site-packages/tensorflow/python/ops/gen_array_ops.py\", line 4635, in _slice\n    \"Slice\", input=input, begin=begin, size=size, name=name)\n  File \"/Users/kimsu/py36tf1x/lib/python3.6/site-packages/tensorflow/python/framework/op_def_library.py\", line 787, in _apply_op_helper\n    op_def=op_def)\n  File \"/Users/kimsu/py36tf1x/lib/python3.6/site-packages/tensorflow/python/framework/ops.py\", line 2956, in create_op\n    op_def=op_def)\n  File \"/Users/kimsu/py36tf1x/lib/python3.6/site-packages/tensorflow/python/framework/ops.py\", line 1470, in __init__\n    self._traceback = self._graph._extract_stack()  # pylint: disable=protected-access\n\nInvalidArgumentError (see above for traceback): Expected size[1] in [0, 0], but got 256\n\t [[Node: rnn2/rnn2/lstm_cell/Slice_1 = Slice[Index=DT_INT32, T=DT_FLOAT, _device=\"/job:localhost/replica:0/task:0/device:CPU:0\"](Relu_3, rnn2/rnn2/lstm_cell/Slice_1/begin, rnn2/rnn2/lstm_cell/Slice/size)]]\n"
     ]
    }
   ],
   "source": [
    "with tf.Session() as sess:\n",
    "    sess.run(tf.global_variables_initializer())\n",
    "    \n",
    "    locs = sess.run(mean_locs[0], feed_dict={x:image})\n",
    "    "
   ]
  },
  {
   "cell_type": "code",
   "execution_count": null,
   "metadata": {},
   "outputs": [],
   "source": []
  },
  {
   "cell_type": "code",
   "execution_count": null,
   "metadata": {},
   "outputs": [],
   "source": []
  },
  {
   "cell_type": "code",
   "execution_count": null,
   "metadata": {},
   "outputs": [],
   "source": []
  },
  {
   "cell_type": "code",
   "execution_count": null,
   "metadata": {},
   "outputs": [],
   "source": []
  },
  {
   "cell_type": "code",
   "execution_count": 21,
   "metadata": {
    "scrolled": true
   },
   "outputs": [
    {
     "name": "stdout",
     "output_type": "stream",
     "text": [
      "Tensor(\"Relu_96:0\", shape=(1, 28, 28, 3), dtype=float32)\n",
      "[1, 28, 28, 1]\n"
     ]
    },
    {
     "ename": "TypeError",
     "evalue": "'Tensor' object is not iterable.",
     "output_type": "error",
     "traceback": [
      "\u001b[0;31m---------------------------------------------------------------------------\u001b[0m",
      "\u001b[0;31mTypeError\u001b[0m                                 Traceback (most recent call last)",
      "\u001b[0;32m<ipython-input-21-9273f655ff48>\u001b[0m in \u001b[0;36m<module>\u001b[0;34m()\u001b[0m\n\u001b[0;32m----> 1\u001b[0;31m \u001b[0moutputs\u001b[0m\u001b[0;34m,\u001b[0m \u001b[0mmean_locs\u001b[0m\u001b[0;34m,\u001b[0m \u001b[0msampled_locs\u001b[0m\u001b[0;34m,\u001b[0m \u001b[0mbaselines\u001b[0m\u001b[0;34m,\u001b[0m \u001b[0mactions\u001b[0m \u001b[0;34m=\u001b[0m \u001b[0mmodel\u001b[0m\u001b[0;34m(\u001b[0m\u001b[0mx\u001b[0m\u001b[0;34m,\u001b[0m \u001b[0mw\u001b[0m\u001b[0;34m,\u001b[0m \u001b[0mb\u001b[0m\u001b[0;34m)\u001b[0m\u001b[0;34m\u001b[0m\u001b[0m\n\u001b[0m",
      "\u001b[0;32m~/src/koreanRecognition/attention/attention.py\u001b[0m in \u001b[0;36mmodel\u001b[0;34m(img, w, b)\u001b[0m\n\u001b[1;32m    176\u001b[0m         \u001b[0mh2\u001b[0m\u001b[0;34m,\u001b[0m \u001b[0mstate2\u001b[0m \u001b[0;34m=\u001b[0m \u001b[0mrnn2\u001b[0m\u001b[0;34m(\u001b[0m\u001b[0mh1\u001b[0m\u001b[0;34m,\u001b[0m \u001b[0mcontext_feature\u001b[0m\u001b[0;34m)\u001b[0m\u001b[0;34m\u001b[0m\u001b[0m\n\u001b[1;32m    177\u001b[0m         \u001b[0;31m# initialize the location under uniform[-1, 1], for all example in the batch\u001b[0m\u001b[0;34m\u001b[0m\u001b[0;34m\u001b[0m\u001b[0m\n\u001b[0;32m--> 178\u001b[0;31m         \u001b[0mmean_loc\u001b[0m\u001b[0;34m,\u001b[0m \u001b[0msampled_loc\u001b[0m\u001b[0;34m,\u001b[0m \u001b[0mbaseline\u001b[0m \u001b[0;34m=\u001b[0m \u001b[0memission_network\u001b[0m\u001b[0;34m(\u001b[0m\u001b[0mh2\u001b[0m\u001b[0;34m,\u001b[0m \u001b[0mw\u001b[0m\u001b[0;34m,\u001b[0m \u001b[0mb\u001b[0m\u001b[0;34m)\u001b[0m\u001b[0;34m\u001b[0m\u001b[0m\n\u001b[0m\u001b[1;32m    179\u001b[0m \u001b[0;34m\u001b[0m\u001b[0m\n\u001b[1;32m    180\u001b[0m     \u001b[0mmean_locs\u001b[0m\u001b[0;34m.\u001b[0m\u001b[0mappend\u001b[0m\u001b[0;34m(\u001b[0m\u001b[0mmean_loc\u001b[0m\u001b[0;34m)\u001b[0m\u001b[0;34m\u001b[0m\u001b[0m\n",
      "\u001b[0;32m~/py36tf1x/lib/python3.6/site-packages/tensorflow/python/ops/rnn_cell_impl.py\u001b[0m in \u001b[0;36m__call__\u001b[0;34m(self, inputs, state, scope)\u001b[0m\n\u001b[1;32m    181\u001b[0m       with vs.variable_scope(vs.get_variable_scope(),\n\u001b[1;32m    182\u001b[0m                              custom_getter=self._rnn_get_variable):\n\u001b[0;32m--> 183\u001b[0;31m         \u001b[0;32mreturn\u001b[0m \u001b[0msuper\u001b[0m\u001b[0;34m(\u001b[0m\u001b[0mRNNCell\u001b[0m\u001b[0;34m,\u001b[0m \u001b[0mself\u001b[0m\u001b[0;34m)\u001b[0m\u001b[0;34m.\u001b[0m\u001b[0m__call__\u001b[0m\u001b[0;34m(\u001b[0m\u001b[0minputs\u001b[0m\u001b[0;34m,\u001b[0m \u001b[0mstate\u001b[0m\u001b[0;34m)\u001b[0m\u001b[0;34m\u001b[0m\u001b[0m\n\u001b[0m\u001b[1;32m    184\u001b[0m \u001b[0;34m\u001b[0m\u001b[0m\n\u001b[1;32m    185\u001b[0m   \u001b[0;32mdef\u001b[0m \u001b[0m_rnn_get_variable\u001b[0m\u001b[0;34m(\u001b[0m\u001b[0mself\u001b[0m\u001b[0;34m,\u001b[0m \u001b[0mgetter\u001b[0m\u001b[0;34m,\u001b[0m \u001b[0;34m*\u001b[0m\u001b[0margs\u001b[0m\u001b[0;34m,\u001b[0m \u001b[0;34m**\u001b[0m\u001b[0mkwargs\u001b[0m\u001b[0;34m)\u001b[0m\u001b[0;34m:\u001b[0m\u001b[0;34m\u001b[0m\u001b[0m\n",
      "\u001b[0;32m~/py36tf1x/lib/python3.6/site-packages/tensorflow/python/layers/base.py\u001b[0m in \u001b[0;36m__call__\u001b[0;34m(self, inputs, *args, **kwargs)\u001b[0m\n\u001b[1;32m    573\u001b[0m         \u001b[0;32mif\u001b[0m \u001b[0min_graph_mode\u001b[0m\u001b[0;34m:\u001b[0m\u001b[0;34m\u001b[0m\u001b[0m\n\u001b[1;32m    574\u001b[0m           \u001b[0mself\u001b[0m\u001b[0;34m.\u001b[0m\u001b[0m_assert_input_compatibility\u001b[0m\u001b[0;34m(\u001b[0m\u001b[0minputs\u001b[0m\u001b[0;34m)\u001b[0m\u001b[0;34m\u001b[0m\u001b[0m\n\u001b[0;32m--> 575\u001b[0;31m         \u001b[0moutputs\u001b[0m \u001b[0;34m=\u001b[0m \u001b[0mself\u001b[0m\u001b[0;34m.\u001b[0m\u001b[0mcall\u001b[0m\u001b[0;34m(\u001b[0m\u001b[0minputs\u001b[0m\u001b[0;34m,\u001b[0m \u001b[0;34m*\u001b[0m\u001b[0margs\u001b[0m\u001b[0;34m,\u001b[0m \u001b[0;34m**\u001b[0m\u001b[0mkwargs\u001b[0m\u001b[0;34m)\u001b[0m\u001b[0;34m\u001b[0m\u001b[0m\n\u001b[0m\u001b[1;32m    576\u001b[0m \u001b[0;34m\u001b[0m\u001b[0m\n\u001b[1;32m    577\u001b[0m         \u001b[0;32mif\u001b[0m \u001b[0moutputs\u001b[0m \u001b[0;32mis\u001b[0m \u001b[0;32mNone\u001b[0m\u001b[0;34m:\u001b[0m\u001b[0;34m\u001b[0m\u001b[0m\n",
      "\u001b[0;32m~/py36tf1x/lib/python3.6/site-packages/tensorflow/python/ops/rnn_cell_impl.py\u001b[0m in \u001b[0;36mcall\u001b[0;34m(self, inputs, state)\u001b[0m\n\u001b[1;32m    589\u001b[0m \u001b[0;34m\u001b[0m\u001b[0m\n\u001b[1;32m    590\u001b[0m     \u001b[0;32mif\u001b[0m \u001b[0mself\u001b[0m\u001b[0;34m.\u001b[0m\u001b[0m_state_is_tuple\u001b[0m\u001b[0;34m:\u001b[0m\u001b[0;34m\u001b[0m\u001b[0m\n\u001b[0;32m--> 591\u001b[0;31m       \u001b[0;34m(\u001b[0m\u001b[0mc_prev\u001b[0m\u001b[0;34m,\u001b[0m \u001b[0mm_prev\u001b[0m\u001b[0;34m)\u001b[0m \u001b[0;34m=\u001b[0m \u001b[0mstate\u001b[0m\u001b[0;34m\u001b[0m\u001b[0m\n\u001b[0m\u001b[1;32m    592\u001b[0m     \u001b[0;32melse\u001b[0m\u001b[0;34m:\u001b[0m\u001b[0;34m\u001b[0m\u001b[0m\n\u001b[1;32m    593\u001b[0m       \u001b[0mc_prev\u001b[0m \u001b[0;34m=\u001b[0m \u001b[0marray_ops\u001b[0m\u001b[0;34m.\u001b[0m\u001b[0mslice\u001b[0m\u001b[0;34m(\u001b[0m\u001b[0mstate\u001b[0m\u001b[0;34m,\u001b[0m \u001b[0;34m[\u001b[0m\u001b[0;36m0\u001b[0m\u001b[0;34m,\u001b[0m \u001b[0;36m0\u001b[0m\u001b[0;34m]\u001b[0m\u001b[0;34m,\u001b[0m \u001b[0;34m[\u001b[0m\u001b[0;34m-\u001b[0m\u001b[0;36m1\u001b[0m\u001b[0;34m,\u001b[0m \u001b[0mself\u001b[0m\u001b[0;34m.\u001b[0m\u001b[0m_num_units\u001b[0m\u001b[0;34m]\u001b[0m\u001b[0;34m)\u001b[0m\u001b[0;34m\u001b[0m\u001b[0m\n",
      "\u001b[0;32m~/py36tf1x/lib/python3.6/site-packages/tensorflow/python/framework/ops.py\u001b[0m in \u001b[0;36m__iter__\u001b[0;34m(self)\u001b[0m\n\u001b[1;32m    503\u001b[0m       \u001b[0mTypeError\u001b[0m\u001b[0;34m:\u001b[0m \u001b[0mwhen\u001b[0m \u001b[0minvoked\u001b[0m\u001b[0;34m.\u001b[0m\u001b[0;34m\u001b[0m\u001b[0m\n\u001b[1;32m    504\u001b[0m     \"\"\"\n\u001b[0;32m--> 505\u001b[0;31m     \u001b[0;32mraise\u001b[0m \u001b[0mTypeError\u001b[0m\u001b[0;34m(\u001b[0m\u001b[0;34m\"'Tensor' object is not iterable.\"\u001b[0m\u001b[0;34m)\u001b[0m\u001b[0;34m\u001b[0m\u001b[0m\n\u001b[0m\u001b[1;32m    506\u001b[0m \u001b[0;34m\u001b[0m\u001b[0m\n\u001b[1;32m    507\u001b[0m   \u001b[0;32mdef\u001b[0m \u001b[0m__bool__\u001b[0m\u001b[0;34m(\u001b[0m\u001b[0mself\u001b[0m\u001b[0;34m)\u001b[0m\u001b[0;34m:\u001b[0m\u001b[0;34m\u001b[0m\u001b[0m\n",
      "\u001b[0;31mTypeError\u001b[0m: 'Tensor' object is not iterable."
     ]
    }
   ],
   "source": [
    "outputs, mean_locs, sampled_locs, baselines, actions = model(x, w, b)"
   ]
  },
  {
   "cell_type": "code",
   "execution_count": null,
   "metadata": {},
   "outputs": [],
   "source": [
    "a = tf.zeros([10, 256])"
   ]
  },
  {
   "cell_type": "code",
   "execution_count": 11,
   "metadata": {},
   "outputs": [
    {
     "data": {
      "text/plain": [
       "TensorShape([Dimension(10), Dimension(256)])"
      ]
     },
     "execution_count": 11,
     "metadata": {},
     "output_type": "execute_result"
    }
   ],
   "source": [
    "a.get_shape().as_list()"
   ]
  },
  {
   "cell_type": "code",
   "execution_count": null,
   "metadata": {},
   "outputs": [],
   "source": []
  },
  {
   "cell_type": "code",
   "execution_count": null,
   "metadata": {},
   "outputs": [],
   "source": [
    "if __name__ == '__main__':\n",
    "    args = {\n",
    "        'dataset': 'phd08',\n",
    "        'dataset_path': '/Users/kimsu/datasets/korean_image/phd08',\n",
    "        'width': 28,\n",
    "        'height': 28,\n",
    "        'sampling': True,\n",
    "        'n_sample': 50,\n",
    "        'train_set_ratio': 0.7\n",
    "    }\n",
    "    args['data_size'] = args['width'] * args['height']\n",
    "\n",
    "    dataset = DataSet(args)\n",
    "\n",
    "    images, labels = dataset.train_data.next_batch(10)\n",
    "    print(images.shape, labels.shape)\n",
    "\n",
    "    x = tf.placeholder(tf.float32, [None, 28, 28, 1])\n",
    "\n",
    "    loc = tf.constant([[0.5, 0.5]])\n",
    "\n",
    "    # glimpse = tf.image.extract_glimpse(x, (14, 14), [(0.5, 0.5)],\n",
    "    #                                    normalized=True, centered=False)\n",
    "\n",
    "    glimpse = glimpse_sensor(x, loc)\n",
    "\n",
    "    '''\n",
    "    tf.image.extract_glimpse\n",
    "      args\n",
    "        input : 이미지\n",
    "        size : 패치 사이즈\n",
    "        offsets : loc 좌표\n",
    "        normalized : True일때, loc 좌표를 0~1로 표\n",
    "        centered : 중심 좌표를 원점으로?\n",
    "    '''\n",
    "\n",
    "    sess = tf.Session()\n",
    "\n",
    "    for i, arg in enumerate(zip(images, labels)):\n",
    "        image, label = arg\n",
    "\n",
    "        print(image.shape)\n",
    "        img_flat = np.reshape(image, [1, 28, 28, 1])\n",
    "        img_flat = img_flat.astype(np.float32) / 255\n",
    "\n",
    "        g_list = sess.run(glimpse, feed_dict={x: img_flat})\n",
    "        print(g_list.shape)\n",
    "        for i, patch in enumerate(g_list[0]):\n",
    "            # print(i, patch.shape)\n",
    "            print(i, patch.shape)\n",
    "            cv2.imshow('%d th Glimpse' % (i+1), patch)\n",
    "\n",
    "        cv2.imshow(str(label), image)\n",
    "        key = cv2.waitKey(0)\n",
    "\n",
    "        if key == ord('q'):\n",
    "            break\n",
    "    cv2.destroyAllWindows()\n",
    "\n",
    "\n",
    "# import numpy as np\n",
    "#\n",
    "# a = [1, 2, 3, 4, 5, 6]\n",
    "# a = np.array(a)\n",
    "# a = a.reshape([3, 2])\n",
    "# # a = np.append(a, [7, 8], 0)\n",
    "#\n",
    "# np.random.shuffle(a)\n",
    "# c = np.array([])\n",
    "# # print(a.shape, a, c, np.vstack((c, a)), np.random.random_integers(0, 10, 11))\n",
    "\n"
   ]
  }
 ],
 "metadata": {
  "kernelspec": {
   "display_name": "py36tf1x",
   "language": "python",
   "name": "py36tf1x"
  },
  "language_info": {
   "codemirror_mode": {
    "name": "ipython",
    "version": 3
   },
   "file_extension": ".py",
   "mimetype": "text/x-python",
   "name": "python",
   "nbconvert_exporter": "python",
   "pygments_lexer": "ipython3",
   "version": "3.6.3"
  }
 },
 "nbformat": 4,
 "nbformat_minor": 2
}
