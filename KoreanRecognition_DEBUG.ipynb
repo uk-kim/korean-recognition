{
 "cells": [
  {
   "cell_type": "markdown",
   "metadata": {},
   "source": [
    "### 한글 인식 디버그용 Notebook"
   ]
  },
  {
   "cell_type": "markdown",
   "metadata": {},
   "source": [
    "#### Import"
   ]
  },
  {
   "cell_type": "code",
   "execution_count": 1,
   "metadata": {},
   "outputs": [
    {
     "name": "stderr",
     "output_type": "stream",
     "text": [
      "/Users/kimsu/py36tf1x/lib/python3.6/importlib/_bootstrap.py:219: RuntimeWarning: compiletime version 3.5 of module 'tensorflow.python.framework.fast_tensor_util' does not match runtime version 3.6\n",
      "  return f(*args, **kwds)\n"
     ]
    }
   ],
   "source": [
    "# -*-coding: utf-8-*-\n",
    "from dataset.datasets import DataSet\n",
    "from dataset.korean_utils import *\n",
    "\n",
    "import unicodedata\n",
    "\n",
    "import cv2\n",
    "import numpy as np\n",
    "\n",
    "import tensorflow as tf\n",
    "from attention.attention import glimpse_sensor, model\n",
    "\n",
    "from attention.config import *"
   ]
  },
  {
   "cell_type": "markdown",
   "metadata": {},
   "source": [
    "#### Set Arguments"
   ]
  },
  {
   "cell_type": "code",
   "execution_count": 2,
   "metadata": {},
   "outputs": [],
   "source": [
    "args = {\n",
    "    'dataset': 'phd08',\n",
    "    'dataset_path': '/Users/kimsu/datasets/korean_image/phd08',\n",
    "    'width': 28,\n",
    "    'height': 28,\n",
    "    'sampling': True,\n",
    "    'n_sample': 50,\n",
    "    'train_set_ratio': 0.7\n",
    "}\n",
    "args['data_size'] = args['width'] * args['height']"
   ]
  },
  {
   "cell_type": "markdown",
   "metadata": {},
   "source": [
    "#### Datasets : PHD08"
   ]
  },
  {
   "cell_type": "code",
   "execution_count": 3,
   "metadata": {},
   "outputs": [
    {
     "name": "stderr",
     "output_type": "stream",
     "text": [
      "100%|██████████| 3/3 [00:00<00:00, 92.31it/s]\n"
     ]
    }
   ],
   "source": [
    "dataset = DataSet(args)"
   ]
  },
  {
   "cell_type": "code",
   "execution_count": 4,
   "metadata": {
    "scrolled": true
   },
   "outputs": [],
   "source": [
    "# Dataset Test\n",
    "images, labels = dataset.train_data.next_batch(10)\n",
    "# images, labels"
   ]
  },
  {
   "cell_type": "code",
   "execution_count": null,
   "metadata": {},
   "outputs": [],
   "source": []
  },
  {
   "cell_type": "markdown",
   "metadata": {},
   "source": [
    "#### Model Build"
   ]
  },
  {
   "cell_type": "code",
   "execution_count": 5,
   "metadata": {},
   "outputs": [],
   "source": [
    "# input image tensor\n",
    "x = tf.placeholder(tf.float32, [1, 28, 28, 1])"
   ]
  },
  {
   "cell_type": "code",
   "execution_count": 6,
   "metadata": {},
   "outputs": [],
   "source": [
    "# Weight and Bias variables\n",
    "w = {\n",
    "    # for context network\n",
    "    'wc1': tf.get_variable('wc1', [3, 3, channels, 16], tf.float32),\n",
    "    'wc2': tf.get_variable('wc2', [3, 3, 16, 64], tf.float32),\n",
    "    'wc3': tf.get_variable('wc3', [1, 1, 64, 3], tf.float32),\n",
    "    'wc_fc': tf.get_variable('wc_fc', [img_len * 3, lstm_size*2], tf.float32),\n",
    "    # for emission network\n",
    "    'we_bl': tf.get_variable('we_bl', [lstm_size, lstm_size], tf.float32),\n",
    "    'we_h_nl': tf.get_variable('we_h_nl', [lstm_size, 2], tf.float32),\n",
    "    # for action network\n",
    "    'wai': tf.get_variable('wai', [lstm_size, n_initial_character], tf.float32),\n",
    "    'wam': tf.get_variable('wam', [lstm_size, n_middle_character], tf.float32),\n",
    "    'waf': tf.get_variable('waf', [lstm_size, n_final_character], tf.float32),\n",
    "    # for glimpse network\n",
    "    'wg1': tf.get_variable('wg1', [3, 3, channels, 16], tf.float32),\n",
    "    'wg2': tf.get_variable('wg2', [3, 3, 16, 64], tf.float32),\n",
    "    'wg3': tf.get_variable('wg3', [1, 1, 64, 3], tf.float32),\n",
    "    'wg_fc': tf.get_variable('wg_fc', [sensor_bandwidth*sensor_bandwidth * 3, lstm_size], tf.float32),\n",
    "    'wg_lh': tf.get_variable('wg_lh', [2, lstm_size], tf.float32),\n",
    "    'wg_gh_gf': tf.get_variable('wg_gh_gf', [lstm_size, lstm_size], tf.float32),\n",
    "    'wg_lh_gf': tf.get_variable('wg_lh_gf', [lstm_size, lstm_size], tf.float32),\n",
    "    # for core network\n",
    "    'wo': tf.get_variable('wo', [lstm_size, lstm_size], tf.float32)\n",
    "}\n",
    "\n",
    "b = {\n",
    "    # for context network\n",
    "    'bc1': tf.get_variable('bc1', [16], tf.float32),\n",
    "    'bc2': tf.get_variable('bc2', [64], tf.float32),\n",
    "    'bc3': tf.get_variable('bc3', [3], tf.float32),\n",
    "    'bc_fc': tf.get_variable('bc_fc', [lstm_size*2], tf.float32),\n",
    "    # for emission network\n",
    "    'be_bl': tf.get_variable('be_bl', [lstm_size], tf.float32),\n",
    "    'be_h_nl': tf.get_variable('be_h_nl', [2], tf.float32),\n",
    "    # for action network\n",
    "    'bai': tf.get_variable('bai', [n_initial_character], tf.float32),\n",
    "    'bam': tf.get_variable('bam', [n_middle_character], tf.float32),\n",
    "    'baf': tf.get_variable('baf', [n_final_character], tf.float32),\n",
    "    # for glimpse network\n",
    "    'bg1': tf.get_variable('bg1', [16], tf.float32),\n",
    "    'bg2': tf.get_variable('bg2', [64], tf.float32),\n",
    "    'bg3': tf.get_variable('bg3', [3], tf.float32),\n",
    "    'bg_fc': tf.get_variable('bg_fc', [lstm_size], tf.float32),\n",
    "    'bg_lh': tf.get_variable('bg_lh', [lstm_size], tf.float32),\n",
    "    'bg_glh_gf': tf.get_variable('bg_glh_gf', [lstm_size], tf.float32),\n",
    "    # for core network\n",
    "    'bo': tf.get_variable('bo', [lstm_size], tf.float32)\n",
    "}"
   ]
  },
  {
   "cell_type": "code",
   "execution_count": 7,
   "metadata": {
    "scrolled": true
   },
   "outputs": [
    {
     "name": "stdout",
     "output_type": "stream",
     "text": [
      "1 Tensor(\"Placeholder:0\", shape=(1, 28, 28, 1), dtype=float32)\n",
      "2 Tensor(\"Relu_3:0\", shape=(1, 512), dtype=float32)\n",
      "WARNING:tensorflow:<tensorflow.python.ops.rnn_cell_impl.LSTMCell object at 0x12505aeb8>: Using a concatenated state is slower and will soon be deprecated.  Use state_is_tuple=True.\n",
      "3 <tensorflow.python.ops.rnn_cell_impl.LSTMCell object at 0x12505aeb8>\n",
      "WARNING:tensorflow:<tensorflow.python.ops.rnn_cell_impl.LSTMCell object at 0x105366fd0>: Using a concatenated state is slower and will soon be deprecated.  Use state_is_tuple=True.\n",
      "4 <tensorflow.python.ops.rnn_cell_impl.LSTMCell object at 0x105366fd0>\n",
      "5 Tensor(\"zeros:0\", shape=(1, 256), dtype=float32)\n",
      "6 Tensor(\"rnn2/rnn2/lstm_cell/mul_2:0\", shape=(1, 256), dtype=float32) Tensor(\"rnn2/rnn2/lstm_cell/concat_1:0\", shape=(1, 512), dtype=float32)\n",
      "7 Tensor(\"rnn2/clip_by_value:0\", shape=(1, 2), dtype=float32) Tensor(\"rnn2/StopGradient_1:0\", shape=(1, 2), dtype=float32) Tensor(\"rnn2/Sigmoid:0\", shape=(1, 256), dtype=float32)\n",
      "8 Tensor(\"LSTMCellZeroState/zeros:0\", shape=(1, 512), dtype=float32)\n",
      "9 1 Tensor(\"Relu_9:0\", shape=(1, 256), dtype=float32)\n",
      "9 2 Tensor(\"rnn1/rnn1/lstm_cell/mul_2:0\", shape=(1, 256), dtype=float32) Tensor(\"rnn1/rnn1/lstm_cell/concat_1:0\", shape=(1, 512), dtype=float32)\n",
      "9 3 Tensor(\"rnn1/Sigmoid:0\", shape=(1, 256), dtype=float32)\n",
      "9 4 Tensor(\"rnn2/rnn2/lstm_cell/mul_5:0\", shape=(1, 256), dtype=float32) Tensor(\"rnn2/rnn2/lstm_cell/concat_3:0\", shape=(1, 512), dtype=float32)\n",
      "9 5 Tensor(\"rnn2_1/clip_by_value:0\", shape=(1, 2), dtype=float32) Tensor(\"rnn2_1/StopGradient_1:0\", shape=(1, 2), dtype=float32) Tensor(\"rnn2_1/Sigmoid:0\", shape=(1, 256), dtype=float32)\n",
      "9 6 Tensor(\"Softmax:0\", shape=(1, 19), dtype=float32)\n",
      "--------------------\n",
      "10 1 Tensor(\"Relu_15:0\", shape=(1, 256), dtype=float32)\n",
      "10 2 Tensor(\"rnn1/rnn1/lstm_cell/mul_5:0\", shape=(1, 256), dtype=float32) Tensor(\"rnn1/rnn1/lstm_cell/concat_3:0\", shape=(1, 512), dtype=float32)\n",
      "10 3 Tensor(\"rnn1_1/Sigmoid:0\", shape=(1, 256), dtype=float32)\n",
      "10 4 Tensor(\"rnn2/rnn2/lstm_cell/mul_8:0\", shape=(1, 256), dtype=float32) Tensor(\"rnn2/rnn2/lstm_cell/concat_5:0\", shape=(1, 512), dtype=float32)\n",
      "10 5 Tensor(\"rnn2_2/clip_by_value:0\", shape=(1, 2), dtype=float32) Tensor(\"rnn2_2/StopGradient_1:0\", shape=(1, 2), dtype=float32) Tensor(\"rnn2_2/Sigmoid:0\", shape=(1, 256), dtype=float32)\n",
      "10 6 Tensor(\"Softmax_1:0\", shape=(1, 19), dtype=float32)\n",
      "--------------------\n",
      "11 1 Tensor(\"Relu_21:0\", shape=(1, 256), dtype=float32)\n",
      "11 2 Tensor(\"rnn1/rnn1/lstm_cell/mul_8:0\", shape=(1, 256), dtype=float32) Tensor(\"rnn1/rnn1/lstm_cell/concat_5:0\", shape=(1, 512), dtype=float32)\n",
      "11 3 Tensor(\"rnn1_2/Sigmoid:0\", shape=(1, 256), dtype=float32)\n",
      "11 4 Tensor(\"rnn2/rnn2/lstm_cell/mul_11:0\", shape=(1, 256), dtype=float32) Tensor(\"rnn2/rnn2/lstm_cell/concat_7:0\", shape=(1, 512), dtype=float32)\n",
      "11 5 Tensor(\"rnn2_3/clip_by_value:0\", shape=(1, 2), dtype=float32) Tensor(\"rnn2_3/StopGradient_1:0\", shape=(1, 2), dtype=float32) Tensor(\"rnn2_3/Sigmoid:0\", shape=(1, 256), dtype=float32)\n",
      "11 6 Tensor(\"Softmax_2:0\", shape=(1, 19), dtype=float32)\n",
      "--------------------\n",
      "12 1 Tensor(\"Relu_27:0\", shape=(1, 256), dtype=float32)\n",
      "12 2 Tensor(\"rnn1/rnn1/lstm_cell/mul_11:0\", shape=(1, 256), dtype=float32) Tensor(\"rnn1/rnn1/lstm_cell/concat_7:0\", shape=(1, 512), dtype=float32)\n",
      "12 3 Tensor(\"rnn1_3/Sigmoid:0\", shape=(1, 256), dtype=float32)\n",
      "12 4 Tensor(\"rnn2/rnn2/lstm_cell/mul_14:0\", shape=(1, 256), dtype=float32) Tensor(\"rnn2/rnn2/lstm_cell/concat_9:0\", shape=(1, 512), dtype=float32)\n",
      "12 5 Tensor(\"rnn2_4/clip_by_value:0\", shape=(1, 2), dtype=float32) Tensor(\"rnn2_4/StopGradient_1:0\", shape=(1, 2), dtype=float32) Tensor(\"rnn2_4/Sigmoid:0\", shape=(1, 256), dtype=float32)\n",
      "12 6 Tensor(\"Softmax_3:0\", shape=(1, 19), dtype=float32)\n",
      "--------------------\n",
      "13 1 Tensor(\"Relu_33:0\", shape=(1, 256), dtype=float32)\n",
      "13 2 Tensor(\"rnn1/rnn1/lstm_cell/mul_14:0\", shape=(1, 256), dtype=float32) Tensor(\"rnn1/rnn1/lstm_cell/concat_9:0\", shape=(1, 512), dtype=float32)\n",
      "13 3 Tensor(\"rnn1_4/Sigmoid:0\", shape=(1, 256), dtype=float32)\n",
      "13 4 Tensor(\"rnn2/rnn2/lstm_cell/mul_17:0\", shape=(1, 256), dtype=float32) Tensor(\"rnn2/rnn2/lstm_cell/concat_11:0\", shape=(1, 512), dtype=float32)\n",
      "13 5 Tensor(\"rnn2_5/clip_by_value:0\", shape=(1, 2), dtype=float32) Tensor(\"rnn2_5/StopGradient_1:0\", shape=(1, 2), dtype=float32) Tensor(\"rnn2_5/Sigmoid:0\", shape=(1, 256), dtype=float32)\n",
      "13 6 Tensor(\"Softmax_4:0\", shape=(1, 19), dtype=float32)\n",
      "--------------------\n",
      "14 1 Tensor(\"Relu_39:0\", shape=(1, 256), dtype=float32)\n",
      "14 2 Tensor(\"rnn1/rnn1/lstm_cell/mul_17:0\", shape=(1, 256), dtype=float32) Tensor(\"rnn1/rnn1/lstm_cell/concat_11:0\", shape=(1, 512), dtype=float32)\n",
      "14 3 Tensor(\"rnn1_5/Sigmoid:0\", shape=(1, 256), dtype=float32)\n",
      "14 4 Tensor(\"rnn2/rnn2/lstm_cell/mul_20:0\", shape=(1, 256), dtype=float32) Tensor(\"rnn2/rnn2/lstm_cell/concat_13:0\", shape=(1, 512), dtype=float32)\n",
      "14 5 Tensor(\"rnn2_6/clip_by_value:0\", shape=(1, 2), dtype=float32) Tensor(\"rnn2_6/StopGradient_1:0\", shape=(1, 2), dtype=float32) Tensor(\"rnn2_6/Sigmoid:0\", shape=(1, 256), dtype=float32)\n",
      "14 6 Tensor(\"Softmax_5:0\", shape=(1, 21), dtype=float32)\n",
      "--------------------\n",
      "15 1 Tensor(\"Relu_45:0\", shape=(1, 256), dtype=float32)\n",
      "15 2 Tensor(\"rnn1/rnn1/lstm_cell/mul_20:0\", shape=(1, 256), dtype=float32) Tensor(\"rnn1/rnn1/lstm_cell/concat_13:0\", shape=(1, 512), dtype=float32)\n",
      "15 3 Tensor(\"rnn1_6/Sigmoid:0\", shape=(1, 256), dtype=float32)\n",
      "15 4 Tensor(\"rnn2/rnn2/lstm_cell/mul_23:0\", shape=(1, 256), dtype=float32) Tensor(\"rnn2/rnn2/lstm_cell/concat_15:0\", shape=(1, 512), dtype=float32)\n",
      "15 5 Tensor(\"rnn2_7/clip_by_value:0\", shape=(1, 2), dtype=float32) Tensor(\"rnn2_7/StopGradient_1:0\", shape=(1, 2), dtype=float32) Tensor(\"rnn2_7/Sigmoid:0\", shape=(1, 256), dtype=float32)\n",
      "15 6 Tensor(\"Softmax_6:0\", shape=(1, 21), dtype=float32)\n",
      "--------------------\n",
      "16 1 Tensor(\"Relu_51:0\", shape=(1, 256), dtype=float32)\n",
      "16 2 Tensor(\"rnn1/rnn1/lstm_cell/mul_23:0\", shape=(1, 256), dtype=float32) Tensor(\"rnn1/rnn1/lstm_cell/concat_15:0\", shape=(1, 512), dtype=float32)\n",
      "16 3 Tensor(\"rnn1_7/Sigmoid:0\", shape=(1, 256), dtype=float32)\n",
      "16 4 Tensor(\"rnn2/rnn2/lstm_cell/mul_26:0\", shape=(1, 256), dtype=float32) Tensor(\"rnn2/rnn2/lstm_cell/concat_17:0\", shape=(1, 512), dtype=float32)\n",
      "16 5 Tensor(\"rnn2_8/clip_by_value:0\", shape=(1, 2), dtype=float32) Tensor(\"rnn2_8/StopGradient_1:0\", shape=(1, 2), dtype=float32) Tensor(\"rnn2_8/Sigmoid:0\", shape=(1, 256), dtype=float32)\n",
      "16 6 Tensor(\"Softmax_7:0\", shape=(1, 21), dtype=float32)\n",
      "--------------------\n",
      "17 1 Tensor(\"Relu_57:0\", shape=(1, 256), dtype=float32)\n",
      "17 2 Tensor(\"rnn1/rnn1/lstm_cell/mul_26:0\", shape=(1, 256), dtype=float32) Tensor(\"rnn1/rnn1/lstm_cell/concat_17:0\", shape=(1, 512), dtype=float32)\n",
      "17 3 Tensor(\"rnn1_8/Sigmoid:0\", shape=(1, 256), dtype=float32)\n",
      "17 4 Tensor(\"rnn2/rnn2/lstm_cell/mul_29:0\", shape=(1, 256), dtype=float32) Tensor(\"rnn2/rnn2/lstm_cell/concat_19:0\", shape=(1, 512), dtype=float32)\n",
      "17 5 Tensor(\"rnn2_9/clip_by_value:0\", shape=(1, 2), dtype=float32) Tensor(\"rnn2_9/StopGradient_1:0\", shape=(1, 2), dtype=float32) Tensor(\"rnn2_9/Sigmoid:0\", shape=(1, 256), dtype=float32)\n",
      "17 6 Tensor(\"Softmax_8:0\", shape=(1, 21), dtype=float32)\n",
      "--------------------\n",
      "18 1 Tensor(\"Relu_63:0\", shape=(1, 256), dtype=float32)\n",
      "18 2 Tensor(\"rnn1/rnn1/lstm_cell/mul_29:0\", shape=(1, 256), dtype=float32) Tensor(\"rnn1/rnn1/lstm_cell/concat_19:0\", shape=(1, 512), dtype=float32)\n",
      "18 3 Tensor(\"rnn1_9/Sigmoid:0\", shape=(1, 256), dtype=float32)\n",
      "18 4 Tensor(\"rnn2/rnn2/lstm_cell/mul_32:0\", shape=(1, 256), dtype=float32) Tensor(\"rnn2/rnn2/lstm_cell/concat_21:0\", shape=(1, 512), dtype=float32)\n",
      "18 5 Tensor(\"rnn2_10/clip_by_value:0\", shape=(1, 2), dtype=float32) Tensor(\"rnn2_10/StopGradient_1:0\", shape=(1, 2), dtype=float32) Tensor(\"rnn2_10/Sigmoid:0\", shape=(1, 256), dtype=float32)\n",
      "18 6 Tensor(\"Softmax_9:0\", shape=(1, 21), dtype=float32)\n",
      "--------------------\n",
      "19 1 Tensor(\"Relu_69:0\", shape=(1, 256), dtype=float32)\n",
      "19 2 Tensor(\"rnn1/rnn1/lstm_cell/mul_32:0\", shape=(1, 256), dtype=float32) Tensor(\"rnn1/rnn1/lstm_cell/concat_21:0\", shape=(1, 512), dtype=float32)\n",
      "19 3 Tensor(\"rnn1_10/Sigmoid:0\", shape=(1, 256), dtype=float32)\n",
      "19 4 Tensor(\"rnn2/rnn2/lstm_cell/mul_35:0\", shape=(1, 256), dtype=float32) Tensor(\"rnn2/rnn2/lstm_cell/concat_23:0\", shape=(1, 512), dtype=float32)\n",
      "19 5 Tensor(\"rnn2_11/clip_by_value:0\", shape=(1, 2), dtype=float32) Tensor(\"rnn2_11/StopGradient_1:0\", shape=(1, 2), dtype=float32) Tensor(\"rnn2_11/Sigmoid:0\", shape=(1, 256), dtype=float32)\n",
      "19 6 Tensor(\"Softmax_10:0\", shape=(1, 28), dtype=float32)\n",
      "--------------------\n",
      "20 1 Tensor(\"Relu_75:0\", shape=(1, 256), dtype=float32)\n",
      "20 2 Tensor(\"rnn1/rnn1/lstm_cell/mul_35:0\", shape=(1, 256), dtype=float32) Tensor(\"rnn1/rnn1/lstm_cell/concat_23:0\", shape=(1, 512), dtype=float32)\n",
      "20 3 Tensor(\"rnn1_11/Sigmoid:0\", shape=(1, 256), dtype=float32)\n",
      "20 4 Tensor(\"rnn2/rnn2/lstm_cell/mul_38:0\", shape=(1, 256), dtype=float32) Tensor(\"rnn2/rnn2/lstm_cell/concat_25:0\", shape=(1, 512), dtype=float32)\n",
      "20 5 Tensor(\"rnn2_12/clip_by_value:0\", shape=(1, 2), dtype=float32) Tensor(\"rnn2_12/StopGradient_1:0\", shape=(1, 2), dtype=float32) Tensor(\"rnn2_12/Sigmoid:0\", shape=(1, 256), dtype=float32)\n",
      "20 6 Tensor(\"Softmax_11:0\", shape=(1, 28), dtype=float32)\n",
      "--------------------\n"
     ]
    },
    {
     "name": "stdout",
     "output_type": "stream",
     "text": [
      "21 1 Tensor(\"Relu_81:0\", shape=(1, 256), dtype=float32)\n",
      "21 2 Tensor(\"rnn1/rnn1/lstm_cell/mul_38:0\", shape=(1, 256), dtype=float32) Tensor(\"rnn1/rnn1/lstm_cell/concat_25:0\", shape=(1, 512), dtype=float32)\n",
      "21 3 Tensor(\"rnn1_12/Sigmoid:0\", shape=(1, 256), dtype=float32)\n",
      "21 4 Tensor(\"rnn2/rnn2/lstm_cell/mul_41:0\", shape=(1, 256), dtype=float32) Tensor(\"rnn2/rnn2/lstm_cell/concat_27:0\", shape=(1, 512), dtype=float32)\n",
      "21 5 Tensor(\"rnn2_13/clip_by_value:0\", shape=(1, 2), dtype=float32) Tensor(\"rnn2_13/StopGradient_1:0\", shape=(1, 2), dtype=float32) Tensor(\"rnn2_13/Sigmoid:0\", shape=(1, 256), dtype=float32)\n",
      "21 6 Tensor(\"Softmax_12:0\", shape=(1, 28), dtype=float32)\n",
      "--------------------\n",
      "22 1 Tensor(\"Relu_87:0\", shape=(1, 256), dtype=float32)\n",
      "22 2 Tensor(\"rnn1/rnn1/lstm_cell/mul_41:0\", shape=(1, 256), dtype=float32) Tensor(\"rnn1/rnn1/lstm_cell/concat_27:0\", shape=(1, 512), dtype=float32)\n",
      "22 3 Tensor(\"rnn1_13/Sigmoid:0\", shape=(1, 256), dtype=float32)\n",
      "22 4 Tensor(\"rnn2/rnn2/lstm_cell/mul_44:0\", shape=(1, 256), dtype=float32) Tensor(\"rnn2/rnn2/lstm_cell/concat_29:0\", shape=(1, 512), dtype=float32)\n",
      "22 5 Tensor(\"rnn2_14/clip_by_value:0\", shape=(1, 2), dtype=float32) Tensor(\"rnn2_14/StopGradient_1:0\", shape=(1, 2), dtype=float32) Tensor(\"rnn2_14/Sigmoid:0\", shape=(1, 256), dtype=float32)\n",
      "22 6 Tensor(\"Softmax_13:0\", shape=(1, 28), dtype=float32)\n",
      "--------------------\n",
      "23 1 Tensor(\"Relu_93:0\", shape=(1, 256), dtype=float32)\n",
      "23 2 Tensor(\"rnn1/rnn1/lstm_cell/mul_44:0\", shape=(1, 256), dtype=float32) Tensor(\"rnn1/rnn1/lstm_cell/concat_29:0\", shape=(1, 512), dtype=float32)\n",
      "23 3 Tensor(\"rnn1_14/Sigmoid:0\", shape=(1, 256), dtype=float32)\n",
      "23 4 Tensor(\"rnn2/rnn2/lstm_cell/mul_47:0\", shape=(1, 256), dtype=float32) Tensor(\"rnn2/rnn2/lstm_cell/concat_31:0\", shape=(1, 512), dtype=float32)\n",
      "23 5 Tensor(\"rnn2_15/clip_by_value:0\", shape=(1, 2), dtype=float32) Tensor(\"rnn2_15/StopGradient_1:0\", shape=(1, 2), dtype=float32) Tensor(\"rnn2_15/Sigmoid:0\", shape=(1, 256), dtype=float32)\n",
      "23 6 Tensor(\"Softmax_14:0\", shape=(1, 28), dtype=float32)\n",
      "--------------------\n"
     ]
    }
   ],
   "source": [
    " outputs, mean_locs, sampled_locs, baselines, actions, h1s, h2s, state1s, state2s = model(x, w, b)"
   ]
  },
  {
   "cell_type": "code",
   "execution_count": 8,
   "metadata": {},
   "outputs": [
    {
     "data": {
      "text/plain": [
       "(15, 16, 16, 16, 15)"
      ]
     },
     "execution_count": 8,
     "metadata": {},
     "output_type": "execute_result"
    }
   ],
   "source": [
    "len(outputs), len(mean_locs), len(sampled_locs), len(baselines), len(actions)"
   ]
  },
  {
   "cell_type": "code",
   "execution_count": 9,
   "metadata": {},
   "outputs": [
    {
     "data": {
      "text/plain": [
       "[<tf.Tensor 'Softmax:0' shape=(1, 19) dtype=float32>,\n",
       " <tf.Tensor 'Softmax_1:0' shape=(1, 19) dtype=float32>,\n",
       " <tf.Tensor 'Softmax_2:0' shape=(1, 19) dtype=float32>,\n",
       " <tf.Tensor 'Softmax_3:0' shape=(1, 19) dtype=float32>,\n",
       " <tf.Tensor 'Softmax_4:0' shape=(1, 19) dtype=float32>,\n",
       " <tf.Tensor 'Softmax_5:0' shape=(1, 21) dtype=float32>,\n",
       " <tf.Tensor 'Softmax_6:0' shape=(1, 21) dtype=float32>,\n",
       " <tf.Tensor 'Softmax_7:0' shape=(1, 21) dtype=float32>,\n",
       " <tf.Tensor 'Softmax_8:0' shape=(1, 21) dtype=float32>,\n",
       " <tf.Tensor 'Softmax_9:0' shape=(1, 21) dtype=float32>,\n",
       " <tf.Tensor 'Softmax_10:0' shape=(1, 28) dtype=float32>,\n",
       " <tf.Tensor 'Softmax_11:0' shape=(1, 28) dtype=float32>,\n",
       " <tf.Tensor 'Softmax_12:0' shape=(1, 28) dtype=float32>,\n",
       " <tf.Tensor 'Softmax_13:0' shape=(1, 28) dtype=float32>,\n",
       " <tf.Tensor 'Softmax_14:0' shape=(1, 28) dtype=float32>]"
      ]
     },
     "execution_count": 9,
     "metadata": {},
     "output_type": "execute_result"
    }
   ],
   "source": [
    "actions"
   ]
  },
  {
   "cell_type": "code",
   "execution_count": null,
   "metadata": {},
   "outputs": [],
   "source": []
  },
  {
   "cell_type": "markdown",
   "metadata": {},
   "source": [
    "### Model 함수 호출해서 결과 나오는지, 그리고 그 결과를 Session 돌려서 그림에 시각화해보자\n",
    "### Batch Size를 고정시켜두었는데, 이부분을 None으로 할 때에는 어떻게 해야할 지 고민해볼 것.\n",
    "###   첫번째 context network 다음에 rnn으로 입력하는 텐서의 값을 초기에는 zeros를 하는데,\n",
    "###  이때 zeros를 만들 때, batch size가 undefined되있으면 안됨."
   ]
  },
  {
   "cell_type": "code",
   "execution_count": null,
   "metadata": {},
   "outputs": [],
   "source": []
  },
  {
   "cell_type": "code",
   "execution_count": null,
   "metadata": {},
   "outputs": [],
   "source": []
  },
  {
   "cell_type": "code",
   "execution_count": 19,
   "metadata": {},
   "outputs": [],
   "source": [
    "def visualize_glimpse_movement(img, locs):\n",
    "    print(img.shape)\n",
    "    rows = img.shape[0]\n",
    "    cols = img.shape[1]\n",
    "    n_channel = img.shape[2]\n",
    "    disp = img.copy()\n",
    "    if n_channel == 1:\n",
    "        disp = cv2.cvtColor(disp, cv2.COLOR_GRAY2BGR)\n",
    "    \n",
    "    pts = []\n",
    "    for loc in locs:\n",
    "        x = int((loc[0,0] + 1) * 0.5 * cols + 0.5)\n",
    "        y = int((loc[0,1] + 1) * 0.5 * rows + 0.5)\n",
    "        pts.append((x, y))\n",
    "        \n",
    "        cv2.circle(disp, (x, y), 1, (0, 255, 0), 2)\n",
    "    cv2.circle(disp, pts[0], 1, (255, 0, 0), 2)\n",
    "    cv2.circle(disp, pts[-1], 1, (0, 0, 255), 2)\n",
    "    \n",
    "    for i in range(len(pts) - 1):\n",
    "        cv2.line(disp, pts[i], pts[i+1], (0, 255, 0), 1)\n",
    "    return disp"
   ]
  },
  {
   "cell_type": "code",
   "execution_count": 11,
   "metadata": {},
   "outputs": [],
   "source": [
    "image = images[0]\n",
    "image = np.reshape(image, [1, img_sz, img_sz, 1])\n",
    "image = image.astype(np.float32) / 255"
   ]
  },
  {
   "cell_type": "code",
   "execution_count": null,
   "metadata": {},
   "outputs": [],
   "source": []
  },
  {
   "cell_type": "code",
   "execution_count": 12,
   "metadata": {},
   "outputs": [
    {
     "data": {
      "text/plain": [
       "<tf.Tensor 'rnn2/clip_by_value:0' shape=(1, 2) dtype=float32>"
      ]
     },
     "execution_count": 12,
     "metadata": {},
     "output_type": "execute_result"
    }
   ],
   "source": [
    "mean_locs[0]"
   ]
  },
  {
   "cell_type": "code",
   "execution_count": null,
   "metadata": {},
   "outputs": [],
   "source": [
    "state2s"
   ]
  },
  {
   "cell_type": "code",
   "execution_count": null,
   "metadata": {},
   "outputs": [],
   "source": []
  },
  {
   "cell_type": "code",
   "execution_count": null,
   "metadata": {},
   "outputs": [],
   "source": []
  },
  {
   "cell_type": "code",
   "execution_count": 14,
   "metadata": {},
   "outputs": [],
   "source": [
    "with tf.Session() as sess:\n",
    "    sess.run(tf.global_variables_initializer())\n",
    "    \n",
    "    locs = sess.run(mean_locs, feed_dict={x:image})\n",
    "    "
   ]
  },
  {
   "cell_type": "code",
   "execution_count": 15,
   "metadata": {},
   "outputs": [
    {
     "data": {
      "text/plain": [
       "[array([[-0.73240083,  0.42936713]], dtype=float32),\n",
       " array([[-0.7206238 ,  0.43713477]], dtype=float32),\n",
       " array([[-0.7104677,  0.4426938]], dtype=float32),\n",
       " array([[-0.70358586,  0.44650793]], dtype=float32),\n",
       " array([[-0.6983457 ,  0.44877675]], dtype=float32),\n",
       " array([[-0.69531 ,  0.449624]], dtype=float32),\n",
       " array([[-0.6933375,  0.4505092]], dtype=float32),\n",
       " array([[-0.69164884,  0.45085752]], dtype=float32),\n",
       " array([[-0.69058585,  0.45083162]], dtype=float32),\n",
       " array([[-0.68984205,  0.4510276 ]], dtype=float32),\n",
       " array([[-0.6889741,  0.4510966]], dtype=float32),\n",
       " array([[-0.68844783,  0.45074278]], dtype=float32),\n",
       " array([[-0.68768424,  0.45116603]], dtype=float32),\n",
       " array([[-0.6878951 ,  0.45070904]], dtype=float32),\n",
       " array([[-0.68814397,  0.45004535]], dtype=float32),\n",
       " array([[-0.6885091 ,  0.45023596]], dtype=float32)]"
      ]
     },
     "execution_count": 15,
     "metadata": {},
     "output_type": "execute_result"
    }
   ],
   "source": [
    "locs"
   ]
  },
  {
   "cell_type": "code",
   "execution_count": 16,
   "metadata": {},
   "outputs": [
    {
     "data": {
      "text/plain": [
       "(1, 28, 28, 1)"
      ]
     },
     "execution_count": 16,
     "metadata": {},
     "output_type": "execute_result"
    }
   ],
   "source": [
    "image.shape"
   ]
  },
  {
   "cell_type": "code",
   "execution_count": 28,
   "metadata": {},
   "outputs": [
    {
     "name": "stdout",
     "output_type": "stream",
     "text": [
      "(420, 420, 1)\n"
     ]
    }
   ],
   "source": [
    "r_image = cv2.resize(image[0], (image.shape[2] * 15, image.shape[1] * 15))\n",
    "r_image = np.expand_dims(r_image, -1)\n",
    "disp = visualize_glimpse_movement(r_image, locs)"
   ]
  },
  {
   "cell_type": "code",
   "execution_count": 29,
   "metadata": {},
   "outputs": [
    {
     "ename": "error",
     "evalue": "/Users/travis/build/skvark/opencv-python/opencv/modules/highgui/src/window_QT.cpp:525: error: (-27) NULL guiReceiver (please create a window) in function cvDestroyWindow\n",
     "output_type": "error",
     "traceback": [
      "\u001b[0;31m---------------------------------------------------------------------------\u001b[0m",
      "\u001b[0;31merror\u001b[0m                                     Traceback (most recent call last)",
      "\u001b[0;32m<ipython-input-29-367eb0632b69>\u001b[0m in \u001b[0;36m<module>\u001b[0;34m()\u001b[0m\n\u001b[1;32m      2\u001b[0m \u001b[0mcv2\u001b[0m\u001b[0;34m.\u001b[0m\u001b[0mwaitKey\u001b[0m\u001b[0;34m(\u001b[0m\u001b[0;34m)\u001b[0m\u001b[0;34m\u001b[0m\u001b[0m\n\u001b[1;32m      3\u001b[0m \u001b[0mcv2\u001b[0m\u001b[0;34m.\u001b[0m\u001b[0mdestroyAllWindows\u001b[0m\u001b[0;34m(\u001b[0m\u001b[0;34m)\u001b[0m\u001b[0;34m\u001b[0m\u001b[0m\n\u001b[0;32m----> 4\u001b[0;31m \u001b[0mcv2\u001b[0m\u001b[0;34m.\u001b[0m\u001b[0mdestroyWindow\u001b[0m\u001b[0;34m(\u001b[0m\u001b[0;34m'disp'\u001b[0m\u001b[0;34m)\u001b[0m\u001b[0;34m\u001b[0m\u001b[0m\n\u001b[0m",
      "\u001b[0;31merror\u001b[0m: /Users/travis/build/skvark/opencv-python/opencv/modules/highgui/src/window_QT.cpp:525: error: (-27) NULL guiReceiver (please create a window) in function cvDestroyWindow\n"
     ]
    }
   ],
   "source": [
    "cv2.imshow(\"disp\", disp)\n",
    "cv2.waitKey()\n",
    "cv2.destroyAllWindows()\n",
    "cv2.destroyWindow('disp')"
   ]
  },
  {
   "cell_type": "code",
   "execution_count": 30,
   "metadata": {},
   "outputs": [],
   "source": [
    "cv2.destroyAllWindows()"
   ]
  },
  {
   "cell_type": "code",
   "execution_count": null,
   "metadata": {},
   "outputs": [],
   "source": []
  },
  {
   "cell_type": "code",
   "execution_count": 18,
   "metadata": {},
   "outputs": [
    {
     "data": {
      "text/plain": [
       "(28, 28, 1)"
      ]
     },
     "execution_count": 18,
     "metadata": {},
     "output_type": "execute_result"
    }
   ],
   "source": [
    "image[0].shape"
   ]
  },
  {
   "cell_type": "code",
   "execution_count": null,
   "metadata": {},
   "outputs": [],
   "source": []
  },
  {
   "cell_type": "code",
   "execution_count": null,
   "metadata": {},
   "outputs": [],
   "source": [
    "if __name__ == '__main__':\n",
    "    args = {\n",
    "        'dataset': 'phd08',\n",
    "        'dataset_path': '/Users/kimsu/datasets/korean_image/phd08',\n",
    "        'width': 28,\n",
    "        'height': 28,\n",
    "        'sampling': True,\n",
    "        'n_sample': 50,\n",
    "        'train_set_ratio': 0.7\n",
    "    }\n",
    "    args['data_size'] = args['width'] * args['height']\n",
    "\n",
    "    dataset = DataSet(args)\n",
    "\n",
    "    images, labels = dataset.train_data.next_batch(10)\n",
    "    print(images.shape, labels.shape)\n",
    "\n",
    "    x = tf.placeholder(tf.float32, [None, 28, 28, 1])\n",
    "\n",
    "    loc = tf.constant([[0.5, 0.5]])\n",
    "\n",
    "    # glimpse = tf.image.extract_glimpse(x, (14, 14), [(0.5, 0.5)],\n",
    "    #                                    normalized=True, centered=False)\n",
    "\n",
    "    glimpse = glimpse_sensor(x, loc)\n",
    "\n",
    "    '''\n",
    "    tf.image.extract_glimpse\n",
    "      args\n",
    "        input : 이미지\n",
    "        size : 패치 사이즈\n",
    "        offsets : loc 좌표\n",
    "        normalized : True일때, loc 좌표를 0~1로 표\n",
    "        centered : 중심 좌표를 원점으로?\n",
    "    '''\n",
    "\n",
    "    sess = tf.Session()\n",
    "\n",
    "    for i, arg in enumerate(zip(images, labels)):\n",
    "        image, label = arg\n",
    "\n",
    "        print(image.shape)\n",
    "        img_flat = np.reshape(image, [1, 28, 28, 1])\n",
    "        img_flat = img_flat.astype(np.float32) / 255\n",
    "\n",
    "        g_list = sess.run(glimpse, feed_dict={x: img_flat})\n",
    "        print(g_list.shape)\n",
    "        for i, patch in enumerate(g_list[0]):\n",
    "            # print(i, patch.shape)\n",
    "            print(i, patch.shape)\n",
    "            cv2.imshow('%d th Glimpse' % (i+1), patch)\n",
    "\n",
    "        cv2.imshow(str(label), image)\n",
    "        key = cv2.waitKey(0)\n",
    "\n",
    "        if key == ord('q'):\n",
    "            break\n",
    "    cv2.destroyAllWindows()\n",
    "\n",
    "\n",
    "# import numpy as np\n",
    "#\n",
    "# a = [1, 2, 3, 4, 5, 6]\n",
    "# a = np.array(a)\n",
    "# a = a.reshape([3, 2])\n",
    "# # a = np.append(a, [7, 8], 0)\n",
    "#\n",
    "# np.random.shuffle(a)\n",
    "# c = np.array([])\n",
    "# # print(a.shape, a, c, np.vstack((c, a)), np.random.random_integers(0, 10, 11))\n",
    "\n"
   ]
  }
 ],
 "metadata": {
  "kernelspec": {
   "display_name": "py36tf1x",
   "language": "python",
   "name": "py36tf1x"
  },
  "language_info": {
   "codemirror_mode": {
    "name": "ipython",
    "version": 3
   },
   "file_extension": ".py",
   "mimetype": "text/x-python",
   "name": "python",
   "nbconvert_exporter": "python",
   "pygments_lexer": "ipython3",
   "version": "3.6.3"
  }
 },
 "nbformat": 4,
 "nbformat_minor": 2
}
