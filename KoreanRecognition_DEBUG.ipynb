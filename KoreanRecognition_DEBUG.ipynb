{
 "cells": [
  {
   "cell_type": "markdown",
   "metadata": {},
   "source": [
    "### 한글 인식 디버그용 Notebook"
   ]
  },
  {
   "cell_type": "markdown",
   "metadata": {},
   "source": [
    "#### Import"
   ]
  },
  {
   "cell_type": "code",
   "execution_count": 1,
   "metadata": {},
   "outputs": [
    {
     "name": "stderr",
     "output_type": "stream",
     "text": [
      "/Users/kimsu/py36tf1x/lib/python3.6/importlib/_bootstrap.py:219: RuntimeWarning: compiletime version 3.5 of module 'tensorflow.python.framework.fast_tensor_util' does not match runtime version 3.6\n",
      "  return f(*args, **kwds)\n"
     ]
    }
   ],
   "source": [
    "# -*-coding: utf-8-*-\n",
    "from dataset.datasets import DataSet\n",
    "from dataset.korean_utils import *\n",
    "\n",
    "import unicodedata\n",
    "\n",
    "import cv2\n",
    "import numpy as np\n",
    "\n",
    "import tensorflow as tf\n",
    "from attention.attention import glimpse_sensor, model, loglikelihood\n",
    "\n",
    "from attention.config import *"
   ]
  },
  {
   "cell_type": "markdown",
   "metadata": {},
   "source": [
    "#### Set Arguments"
   ]
  },
  {
   "cell_type": "code",
   "execution_count": 2,
   "metadata": {},
   "outputs": [],
   "source": [
    "args = {\n",
    "    'dataset': 'phd08',\n",
    "    'dataset_path': '/Users/kimsu/datasets/korean_image/phd08',\n",
    "    'width': 28,\n",
    "    'height': 28,\n",
    "    'sampling': True,\n",
    "    'n_sample': 50,\n",
    "    'train_set_ratio': 0.7\n",
    "}\n",
    "args['data_size'] = args['width'] * args['height']"
   ]
  },
  {
   "cell_type": "markdown",
   "metadata": {},
   "source": [
    "#### Datasets : PHD08"
   ]
  },
  {
   "cell_type": "code",
   "execution_count": 3,
   "metadata": {},
   "outputs": [
    {
     "name": "stderr",
     "output_type": "stream",
     "text": [
      "100%|██████████| 3/3 [00:00<00:00, 97.32it/s]\n"
     ]
    }
   ],
   "source": [
    "dataset = DataSet(args)"
   ]
  },
  {
   "cell_type": "code",
   "execution_count": 4,
   "metadata": {
    "scrolled": true
   },
   "outputs": [],
   "source": [
    "# Dataset Test\n",
    "images, labels = dataset.train_data.next_batch(10)\n",
    "# images, labels"
   ]
  },
  {
   "cell_type": "code",
   "execution_count": null,
   "metadata": {},
   "outputs": [],
   "source": []
  },
  {
   "cell_type": "markdown",
   "metadata": {},
   "source": [
    "#### Model Build"
   ]
  },
  {
   "cell_type": "code",
   "execution_count": 5,
   "metadata": {},
   "outputs": [],
   "source": [
    "# input image tensor\n",
    "x = tf.placeholder(tf.float32, [1, 28, 28, 1])\n",
    "Y = tf.placeholder(tf.int64, shape=[batch_size, 3])"
   ]
  },
  {
   "cell_type": "code",
   "execution_count": 6,
   "metadata": {},
   "outputs": [],
   "source": [
    "# Weight and Bias variables\n",
    "w = {\n",
    "    # for context network\n",
    "    'wc1': tf.get_variable('wc1', [3, 3, channels, 16], tf.float32),\n",
    "    'wc2': tf.get_variable('wc2', [3, 3, 16, 64], tf.float32),\n",
    "    'wc3': tf.get_variable('wc3', [1, 1, 64, 3], tf.float32),\n",
    "    'wc_fc': tf.get_variable('wc_fc', [img_len * 3, lstm_size*2], tf.float32),\n",
    "    # for emission network\n",
    "    'we_bl': tf.get_variable('we_bl', [lstm_size, 1], tf.float32),\n",
    "    'we_h_nl': tf.get_variable('we_h_nl', [lstm_size, 2], tf.float32),\n",
    "    # for action network\n",
    "    'wai': tf.get_variable('wai', [lstm_size, n_initial_character], tf.float32),\n",
    "    'wam': tf.get_variable('wam', [lstm_size, n_middle_character], tf.float32),\n",
    "    'waf': tf.get_variable('waf', [lstm_size, n_final_character], tf.float32),\n",
    "    # for glimpse network\n",
    "    'wg1': tf.get_variable('wg1', [3, 3, channels, 16], tf.float32),\n",
    "    'wg2': tf.get_variable('wg2', [3, 3, 16, 64], tf.float32),\n",
    "    'wg3': tf.get_variable('wg3', [1, 1, 64, 3], tf.float32),\n",
    "    'wg_fc': tf.get_variable('wg_fc', [sensor_bandwidth*sensor_bandwidth * 3, lstm_size], tf.float32),\n",
    "    'wg_lh': tf.get_variable('wg_lh', [2, lstm_size], tf.float32),\n",
    "    'wg_gh_gf': tf.get_variable('wg_gh_gf', [lstm_size, lstm_size], tf.float32),\n",
    "    'wg_lh_gf': tf.get_variable('wg_lh_gf', [lstm_size, lstm_size], tf.float32),\n",
    "    # for core network\n",
    "    'wo': tf.get_variable('wo', [lstm_size, lstm_size], tf.float32)\n",
    "}\n",
    "\n",
    "b = {\n",
    "    # for context network\n",
    "    'bc1': tf.get_variable('bc1', [16], tf.float32),\n",
    "    'bc2': tf.get_variable('bc2', [64], tf.float32),\n",
    "    'bc3': tf.get_variable('bc3', [3], tf.float32),\n",
    "    'bc_fc': tf.get_variable('bc_fc', [lstm_size*2], tf.float32),\n",
    "    # for emission network\n",
    "    'be_bl': tf.get_variable('be_bl', [1], tf.float32),\n",
    "    'be_h_nl': tf.get_variable('be_h_nl', [2], tf.float32),\n",
    "    # for action network\n",
    "    'bai': tf.get_variable('bai', [n_initial_character], tf.float32),\n",
    "    'bam': tf.get_variable('bam', [n_middle_character], tf.float32),\n",
    "    'baf': tf.get_variable('baf', [n_final_character], tf.float32),\n",
    "    # for glimpse network\n",
    "    'bg1': tf.get_variable('bg1', [16], tf.float32),\n",
    "    'bg2': tf.get_variable('bg2', [64], tf.float32),\n",
    "    'bg3': tf.get_variable('bg3', [3], tf.float32),\n",
    "    'bg_fc': tf.get_variable('bg_fc', [lstm_size], tf.float32),\n",
    "    'bg_lh': tf.get_variable('bg_lh', [lstm_size], tf.float32),\n",
    "    'bg_glh_gf': tf.get_variable('bg_glh_gf', [lstm_size], tf.float32),\n",
    "    # for core network\n",
    "    'bo': tf.get_variable('bo', [lstm_size], tf.float32)\n",
    "}"
   ]
  },
  {
   "cell_type": "code",
   "execution_count": 7,
   "metadata": {
    "scrolled": false
   },
   "outputs": [
    {
     "name": "stdout",
     "output_type": "stream",
     "text": [
      "WARNING:tensorflow:<tensorflow.python.ops.rnn_cell_impl.LSTMCell object at 0x10536f048>: Using a concatenated state is slower and will soon be deprecated.  Use state_is_tuple=True.\n",
      "WARNING:tensorflow:<tensorflow.python.ops.rnn_cell_impl.LSTMCell object at 0x125469668>: Using a concatenated state is slower and will soon be deprecated.  Use state_is_tuple=True.\n"
     ]
    }
   ],
   "source": [
    " outputs, mean_locs, sampled_locs, baselines, actions = model(x, w, b)"
   ]
  },
  {
   "cell_type": "code",
   "execution_count": null,
   "metadata": {},
   "outputs": [],
   "source": []
  },
  {
   "cell_type": "markdown",
   "metadata": {},
   "source": [
    "### Loss Function and Reward"
   ]
  },
  {
   "cell_type": "code",
   "execution_count": 15,
   "metadata": {
    "scrolled": false
   },
   "outputs": [
    {
     "name": "stdout",
     "output_type": "stream",
     "text": [
      "logits        :  Tensor(\"Softmax_4:0\", shape=(1, 19), dtype=float32)\n",
      "pred_label    :  Tensor(\"ArgMax_17:0\", shape=(1,), dtype=int64)\n",
      "equal         :  Tensor(\"Equal_17:0\", shape=(1,), dtype=bool)\n",
      "\n",
      "cross_entropy :  Tensor(\"SparseSoftmaxCrossEntropyWithLogits_17/SparseSoftmaxCrossEntropyWithLogits:0\", shape=(1,), dtype=float32)\n",
      "reward        :  Tensor(\"Cast_32:0\", shape=(1,), dtype=float32)\n",
      "rewards       :  Tensor(\"Tile_62:0\", shape=(1, 5), dtype=float32)\n",
      "\n",
      "Tensor(\"mul_83:0\", shape=(5, 1, 2), dtype=float32)\n",
      "baseline      :  Tensor(\"Reshape_228:0\", shape=(1, 5), dtype=float32)\n",
      "loglikelihood :  Tensor(\"transpose_15:0\", shape=(1, 5), dtype=float32)\n",
      "advs          :  Tensor(\"sub_93:0\", shape=(1, 5), dtype=float32)\n",
      "logll_ratio   :  Tensor(\"Mean_22:0\", shape=(), dtype=float32)\n",
      "sq_error      :  Tensor(\"Square_51:0\", shape=(1, 5), dtype=float32)\n",
      "\n",
      "----------------------------------------------------------------------------------------------------\n",
      "logits        :  Tensor(\"Softmax_9:0\", shape=(1, 21), dtype=float32)\n",
      "pred_label    :  Tensor(\"ArgMax_18:0\", shape=(1,), dtype=int64)\n",
      "equal         :  Tensor(\"Equal_18:0\", shape=(1,), dtype=bool)\n",
      "\n",
      "cross_entropy :  Tensor(\"SparseSoftmaxCrossEntropyWithLogits_18/SparseSoftmaxCrossEntropyWithLogits:0\", shape=(1,), dtype=float32)\n",
      "reward        :  Tensor(\"Cast_33:0\", shape=(1,), dtype=float32)\n",
      "rewards       :  Tensor(\"Tile_63:0\", shape=(1, 5), dtype=float32)\n",
      "\n",
      "Tensor(\"mul_87:0\", shape=(5, 1, 2), dtype=float32)\n",
      "baseline      :  Tensor(\"Reshape_229:0\", shape=(1, 5), dtype=float32)\n",
      "loglikelihood :  Tensor(\"transpose_16:0\", shape=(1, 5), dtype=float32)\n",
      "advs          :  Tensor(\"sub_96:0\", shape=(1, 5), dtype=float32)\n",
      "logll_ratio   :  Tensor(\"Mean_23:0\", shape=(), dtype=float32)\n",
      "sq_error      :  Tensor(\"Square_54:0\", shape=(1, 5), dtype=float32)\n",
      "\n",
      "----------------------------------------------------------------------------------------------------\n",
      "logits        :  Tensor(\"Softmax_14:0\", shape=(1, 28), dtype=float32)\n",
      "pred_label    :  Tensor(\"ArgMax_19:0\", shape=(1,), dtype=int64)\n",
      "equal         :  Tensor(\"Equal_19:0\", shape=(1,), dtype=bool)\n",
      "\n",
      "cross_entropy :  Tensor(\"SparseSoftmaxCrossEntropyWithLogits_19/SparseSoftmaxCrossEntropyWithLogits:0\", shape=(1,), dtype=float32)\n",
      "reward        :  Tensor(\"Cast_34:0\", shape=(1,), dtype=float32)\n",
      "rewards       :  Tensor(\"Tile_64:0\", shape=(1, 5), dtype=float32)\n",
      "\n",
      "Tensor(\"mul_91:0\", shape=(5, 1, 2), dtype=float32)\n",
      "baseline      :  Tensor(\"Reshape_230:0\", shape=(1, 5), dtype=float32)\n",
      "loglikelihood :  Tensor(\"transpose_17:0\", shape=(1, 5), dtype=float32)\n",
      "advs          :  Tensor(\"sub_99:0\", shape=(1, 5), dtype=float32)\n",
      "logll_ratio   :  Tensor(\"Mean_24:0\", shape=(), dtype=float32)\n",
      "sq_error      :  Tensor(\"Square_57:0\", shape=(1, 5), dtype=float32)\n",
      "\n",
      "----------------------------------------------------------------------------------------------------\n",
      "equals          :  Tensor(\"stack_114:0\", shape=(0,), dtype=float32)\n",
      "sq_errs         :  Tensor(\"stack_115:0\", shape=(3, 1, 5), dtype=float32)\n",
      "cross entropies :  Tensor(\"Mean_26:0\", shape=(), dtype=float32)\n",
      "baseline mse    :  Tensor(\"Mean_25:0\", shape=(), dtype=float32)\n",
      "logllratios     :  Tensor(\"Mean_27:0\", shape=(), dtype=float32)\n",
      "total_loss      :  Tensor(\"add_123:0\", shape=(), dtype=float32)\n",
      "gradients       :  37\n"
     ]
    }
   ],
   "source": [
    "cross_entropies = []\n",
    "equals = []\n",
    "sq_errs = []\n",
    "logllratios = []\n",
    "\n",
    "for i in range(n_element_per_character):\n",
    "    idx = (i + 1) * n_glimpse_per_element\n",
    "    logits = actions[idx-1]\n",
    "    print('logits        : ', logits)\n",
    "    \n",
    "    pred_label = tf.argmax(logits, 1)\n",
    "    equal = tf.equal(pred_label, Y[:, i])\n",
    "    print('pred_label    : ', pred_label)\n",
    "    print('equal         : ', equal)\n",
    "    print()\n",
    "    \n",
    "    cross_entropy = tf.nn.sparse_softmax_cross_entropy_with_logits(logits=logits, labels=Y[:, i])\n",
    "    # cross_entropy = tf.reduce_mean(cross_entropy)\n",
    "    cross_entropies.append(cross_entropy)\n",
    "    print('cross_entropy : ', cross_entropy)\n",
    "    \n",
    "    reward = tf.cast(equal, tf.float32)\n",
    "    rewards = tf.expand_dims(reward, 1)\n",
    "    rewards = tf.tile(rewards, (1, n_glimpse_per_element))\n",
    "    print('reward        : ', reward)\n",
    "    print('rewards       : ', rewards)\n",
    "    print()\n",
    "    \n",
    "    b = baselines[idx - n_glimpse_per_element:idx]\n",
    "    b = tf.stack(b, 1)\n",
    "    b = tf.reshape(b, [batch_size, n_glimpse_per_element])\n",
    "    \n",
    "    m_locs = mean_locs[idx - n_glimpse_per_element: idx]\n",
    "    s_locs = sampled_locs[idx - n_glimpse_per_element: idx]\n",
    "    \n",
    "#     logll = loglikelihood(mean_locs[idx], sampled_locs[idx], loc_sd)\n",
    "    logll = loglikelihood(m_locs, s_locs, loc_sd)\n",
    "    advs = rewards - tf.stop_gradient(b)\n",
    "    logllratio = tf.reduce_mean(logll * advs)\n",
    "    sq_err = tf.square(rewards - b)\n",
    "    sq_errs.append(sq_err)\n",
    "    logllratios.append(logllratio)\n",
    "    print('baseline      : ', b)\n",
    "    print('loglikelihood : ', logll)\n",
    "    print('advs          : ', advs)\n",
    "    print('logll_ratio   : ', logllratio)\n",
    "    print('sq_error      : ', sq_err)\n",
    "    print()\n",
    "    print('-'*100)\n",
    "    \n",
    "equals = tf.stack(equals)\n",
    "sq_errs = tf.stack(sq_errs)\n",
    "cross_entropies = tf.stack(cross_entropies)\n",
    "logllratios = tf.stack(logllratios)\n",
    "\n",
    "baseline_mse = tf.reduce_mean(sq_errs)\n",
    "cross_entropies = tf.reduce_mean(cross_entropies)\n",
    "logllratios = tf.reduce_mean(logllratios)\n",
    "\n",
    "var_list = tf.trainable_variables()\n",
    "total_loss = -logllratio + cross_entropies + baseline_mse  # '-' to minimize\n",
    "grads = tf.gradients(total_loss, var_list)\n",
    "max_grad_norm = 5.\n",
    "grads, _ = tf.clip_by_global_norm(grads, max_grad_norm)\n",
    "\n",
    "print('equals          : ', equals)\n",
    "print('sq_errs         : ', sq_errs)\n",
    "print('cross entropies : ', cross_entropies)\n",
    "print('baseline mse    : ', baseline_mse)\n",
    "print('logllratios     : ', logllratios)\n",
    "print('total_loss      : ', total_loss)\n",
    "print('gradients       : ', len(grads))"
   ]
  },
  {
   "cell_type": "code",
   "execution_count": 1,
   "metadata": {},
   "outputs": [
    {
     "ename": "NameError",
     "evalue": "name 'outputs' is not defined",
     "output_type": "error",
     "traceback": [
      "\u001b[0;31m---------------------------------------------------------------------------\u001b[0m",
      "\u001b[0;31mNameError\u001b[0m                                 Traceback (most recent call last)",
      "\u001b[0;32m<ipython-input-1-7d40e3f153e0>\u001b[0m in \u001b[0;36m<module>\u001b[0;34m()\u001b[0m\n\u001b[0;32m----> 1\u001b[0;31m \u001b[0moutputs\u001b[0m\u001b[0;34m,\u001b[0m \u001b[0mmean_locs\u001b[0m\u001b[0;34m,\u001b[0m \u001b[0msampled_locs\u001b[0m\u001b[0;34m,\u001b[0m \u001b[0mbaselines\u001b[0m\u001b[0;34m,\u001b[0m \u001b[0mactions\u001b[0m\u001b[0;34m\u001b[0m\u001b[0m\n\u001b[0m",
      "\u001b[0;31mNameError\u001b[0m: name 'outputs' is not defined"
     ]
    }
   ],
   "source": [
    "outputs, mean_locs, sampled_locs, baselines, actions"
   ]
  },
  {
   "cell_type": "code",
   "execution_count": null,
   "metadata": {},
   "outputs": [],
   "source": []
  },
  {
   "cell_type": "code",
   "execution_count": null,
   "metadata": {},
   "outputs": [],
   "source": []
  },
  {
   "cell_type": "markdown",
   "metadata": {},
   "source": [
    "### Model 함수 호출해서 결과 나오는지, 그리고 그 결과를 Session 돌려서 그림에 시각화해보자\n",
    "### Batch Size를 고정시켜두었는데, 이부분을 None으로 할 때에는 어떻게 해야할 지 고민해볼 것.\n",
    "###   첫번째 context network 다음에 rnn으로 입력하는 텐서의 값을 초기에는 zeros를 하는데,\n",
    "###  이때 zeros를 만들 때, batch size가 undefined되있으면 안됨."
   ]
  },
  {
   "cell_type": "code",
   "execution_count": 8,
   "metadata": {},
   "outputs": [],
   "source": [
    "def visualize_glimpse_movement(img, locs):\n",
    "    print(img.shape)\n",
    "    rows = img.shape[0]\n",
    "    cols = img.shape[1]\n",
    "    n_channel = img.shape[2]\n",
    "    disp = img.copy()\n",
    "    if n_channel == 1:\n",
    "        disp = cv2.cvtColor(disp, cv2.COLOR_GRAY2BGR)\n",
    "    \n",
    "    pts = []\n",
    "    for loc in locs:\n",
    "        x = int((loc[0,0] + 1) * 0.5 * cols + 0.5)\n",
    "        y = int((loc[0,1] + 1) * 0.5 * rows + 0.5)\n",
    "        pts.append((x, y))\n",
    "        \n",
    "        cv2.circle(disp, (x, y), 1, (0, 255, 0), 2)\n",
    "    cv2.circle(disp, pts[0], 1, (255, 0, 0), 2)\n",
    "    cv2.circle(disp, pts[-1], 1, (0, 0, 255), 2)\n",
    "    \n",
    "    for i in range(len(pts) - 1):\n",
    "        cv2.line(disp, pts[i], pts[i+1], (0, 255, 0), 1)\n",
    "    return disp"
   ]
  },
  {
   "cell_type": "code",
   "execution_count": 9,
   "metadata": {},
   "outputs": [],
   "source": [
    "image = images[0]\n",
    "image = np.reshape(image, [1, img_sz, img_sz, 1])\n",
    "image = image.astype(np.float32) / 255"
   ]
  },
  {
   "cell_type": "code",
   "execution_count": null,
   "metadata": {},
   "outputs": [],
   "source": []
  },
  {
   "cell_type": "code",
   "execution_count": 10,
   "metadata": {},
   "outputs": [],
   "source": [
    "with tf.Session() as sess:\n",
    "    sess.run(tf.global_variables_initializer())\n",
    "    \n",
    "    locs = sess.run(mean_locs, feed_dict={x:image})"
   ]
  },
  {
   "cell_type": "code",
   "execution_count": 11,
   "metadata": {},
   "outputs": [
    {
     "data": {
      "text/plain": [
       "[array([[-0.3561387 ,  0.11891598]], dtype=float32),\n",
       " array([[-0.33642894,  0.06717372]], dtype=float32),\n",
       " array([[-0.30380607,  0.03299333]], dtype=float32),\n",
       " array([[-0.27188158,  0.00953914]], dtype=float32),\n",
       " array([[-0.24474992, -0.00537742]], dtype=float32),\n",
       " array([[-0.22312959, -0.01584165]], dtype=float32),\n",
       " array([[-0.20406395, -0.02282955]], dtype=float32),\n",
       " array([[-0.18730672, -0.02806933]], dtype=float32),\n",
       " array([[-0.17508894, -0.03297839]], dtype=float32),\n",
       " array([[-0.16327296, -0.03718998]], dtype=float32),\n",
       " array([[-0.15269616, -0.04123304]], dtype=float32),\n",
       " array([[-0.14532149, -0.0455807 ]], dtype=float32),\n",
       " array([[-0.13793853, -0.04933016]], dtype=float32),\n",
       " array([[-0.13146052, -0.05360417]], dtype=float32),\n",
       " array([[-0.1253789 , -0.05730192]], dtype=float32),\n",
       " array([[-0.11995378, -0.06115675]], dtype=float32)]"
      ]
     },
     "execution_count": 11,
     "metadata": {},
     "output_type": "execute_result"
    }
   ],
   "source": [
    "locs"
   ]
  },
  {
   "cell_type": "code",
   "execution_count": 12,
   "metadata": {},
   "outputs": [
    {
     "data": {
      "text/plain": [
       "(1, 28, 28, 1)"
      ]
     },
     "execution_count": 12,
     "metadata": {},
     "output_type": "execute_result"
    }
   ],
   "source": [
    "image.shape"
   ]
  },
  {
   "cell_type": "code",
   "execution_count": 13,
   "metadata": {},
   "outputs": [
    {
     "name": "stdout",
     "output_type": "stream",
     "text": [
      "(420, 420, 1)\n"
     ]
    }
   ],
   "source": [
    "r_image = cv2.resize(image[0], (image.shape[2] * 15, image.shape[1] * 15))\n",
    "r_image = np.expand_dims(r_image, -1)\n",
    "disp = visualize_glimpse_movement(r_image, locs)"
   ]
  },
  {
   "cell_type": "code",
   "execution_count": 14,
   "metadata": {},
   "outputs": [
    {
     "data": {
      "text/plain": [
       "0"
      ]
     },
     "execution_count": 14,
     "metadata": {},
     "output_type": "execute_result"
    }
   ],
   "source": [
    "cv2.imshow(\"disp\", disp)\n",
    "cv2.waitKey()"
   ]
  },
  {
   "cell_type": "code",
   "execution_count": 16,
   "metadata": {},
   "outputs": [],
   "source": [
    "cv2.destroyAllWindows()"
   ]
  },
  {
   "cell_type": "code",
   "execution_count": 15,
   "metadata": {},
   "outputs": [],
   "source": [
    "cv2.destroyWindow('disp')"
   ]
  },
  {
   "cell_type": "code",
   "execution_count": null,
   "metadata": {},
   "outputs": [],
   "source": []
  },
  {
   "cell_type": "code",
   "execution_count": 18,
   "metadata": {},
   "outputs": [
    {
     "data": {
      "text/plain": [
       "(28, 28, 1)"
      ]
     },
     "execution_count": 18,
     "metadata": {},
     "output_type": "execute_result"
    }
   ],
   "source": [
    "image[0].shape"
   ]
  },
  {
   "cell_type": "code",
   "execution_count": null,
   "metadata": {},
   "outputs": [],
   "source": []
  },
  {
   "cell_type": "code",
   "execution_count": null,
   "metadata": {},
   "outputs": [],
   "source": [
    "if __name__ == '__main__':\n",
    "    args = {\n",
    "        'dataset': 'phd08',\n",
    "        'dataset_path': '/Users/kimsu/datasets/korean_image/phd08',\n",
    "        'width': 28,\n",
    "        'height': 28,\n",
    "        'sampling': True,\n",
    "        'n_sample': 50,\n",
    "        'train_set_ratio': 0.7\n",
    "    }\n",
    "    args['data_size'] = args['width'] * args['height']\n",
    "\n",
    "    dataset = DataSet(args)\n",
    "\n",
    "    images, labels = dataset.train_data.next_batch(10)\n",
    "    print(images.shape, labels.shape)\n",
    "\n",
    "    x = tf.placeholder(tf.float32, [None, 28, 28, 1])\n",
    "\n",
    "    loc = tf.constant([[0.5, 0.5]])\n",
    "\n",
    "    # glimpse = tf.image.extract_glimpse(x, (14, 14), [(0.5, 0.5)],\n",
    "    #                                    normalized=True, centered=False)\n",
    "\n",
    "    glimpse = glimpse_sensor(x, loc)\n",
    "\n",
    "    '''\n",
    "    tf.image.extract_glimpse\n",
    "      args\n",
    "        input : 이미지\n",
    "        size : 패치 사이즈\n",
    "        offsets : loc 좌표\n",
    "        normalized : True일때, loc 좌표를 0~1로 표\n",
    "        centered : 중심 좌표를 원점으로?\n",
    "    '''\n",
    "\n",
    "    sess = tf.Session()\n",
    "\n",
    "    for i, arg in enumerate(zip(images, labels)):\n",
    "        image, label = arg\n",
    "\n",
    "        print(image.shape)\n",
    "        img_flat = np.reshape(image, [1, 28, 28, 1])\n",
    "        img_flat = img_flat.astype(np.float32) / 255\n",
    "\n",
    "        g_list = sess.run(glimpse, feed_dict={x: img_flat})\n",
    "        print(g_list.shape)\n",
    "        for i, patch in enumerate(g_list[0]):\n",
    "            # print(i, patch.shape)\n",
    "            print(i, patch.shape)\n",
    "            cv2.imshow('%d th Glimpse' % (i+1), patch)\n",
    "\n",
    "        cv2.imshow(str(label), image)\n",
    "        key = cv2.waitKey(0)\n",
    "\n",
    "        if key == ord('q'):\n",
    "            break\n",
    "    cv2.destroyAllWindows()\n",
    "\n",
    "\n",
    "# import numpy as np\n",
    "#\n",
    "# a = [1, 2, 3, 4, 5, 6]\n",
    "# a = np.array(a)\n",
    "# a = a.reshape([3, 2])\n",
    "# # a = np.append(a, [7, 8], 0)\n",
    "#\n",
    "# np.random.shuffle(a)\n",
    "# c = np.array([])\n",
    "# # print(a.shape, a, c, np.vstack((c, a)), np.random.random_integers(0, 10, 11))\n",
    "\n"
   ]
  }
 ],
 "metadata": {
  "kernelspec": {
   "display_name": "py36tf1x",
   "language": "python",
   "name": "py36tf1x"
  },
  "language_info": {
   "codemirror_mode": {
    "name": "ipython",
    "version": 3
   },
   "file_extension": ".py",
   "mimetype": "text/x-python",
   "name": "python",
   "nbconvert_exporter": "python",
   "pygments_lexer": "ipython3",
   "version": "3.6.3"
  }
 },
 "nbformat": 4,
 "nbformat_minor": 2
}
